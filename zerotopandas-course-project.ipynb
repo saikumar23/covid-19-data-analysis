{
 "cells": [
  {
   "cell_type": "markdown",
   "metadata": {
    "id": "Hp6_0dr3xguV"
   },
   "source": [
    "#  COVID-19 PANDEMIC DATA ANALYSIS\n",
    "\n",
    "A lot of people around the world are getting affected by the novel coronavirus, Subsequently data is being generated daily by every country pertaining to this. I have considered two datasets for this project, the datasets consists of COVID-19 data across the world and India. This project performs an exploratory analysis on the COVID-19 pandemic data and tries to draw meaningful insights through various metrics. I have used Numpy, Pandas, Matplotlib and Seaborn libraries of python for the project."
   ]
  },
  {
   "cell_type": "markdown",
   "metadata": {
    "id": "t5E8uwLLxguW"
   },
   "source": [
    "### How to run the code\n",
    "\n",
    "This is an executable [*Jupyter notebook*](https://jupyter.org) hosted on [Jovian.ml](https://www.jovian.ml), a platform for sharing data science projects. You can run and experiment with the code in a couple of ways: *using free online resources* (recommended) or *on your own computer*.\n",
    "\n",
    "#### Option 1: Running using free online resources (1-click, recommended)\n",
    "\n",
    "The easiest way to start executing this notebook is to click the \"Run\" button at the top of this page, and select \"Run on Binder\". This will run the notebook on [mybinder.org](https://mybinder.org), a free online service for running Jupyter notebooks. You can also select \"Run on Colab\" or \"Run on Kaggle\".\n",
    "\n",
    "\n",
    "#### Option 2: Running on your computer locally\n",
    "\n",
    "1. Install Conda by [following these instructions](https://conda.io/projects/conda/en/latest/user-guide/install/index.html). Add Conda binaries to your system `PATH`, so you can use the `conda` command on your terminal.\n",
    "\n",
    "2. Create a Conda environment and install the required libraries by running these commands on the terminal:\n",
    "\n",
    "```\n",
    "conda create -n zerotopandas -y python=3.8 \n",
    "conda activate zerotopandas\n",
    "pip install jovian jupyter numpy pandas matplotlib seaborn opendatasets --upgrade\n",
    "```\n",
    "\n",
    "3. Press the \"Clone\" button above to copy the command for downloading the notebook, and run it on the terminal. This will create a new directory and download the notebook. The command will look something like this:\n",
    "\n",
    "```\n",
    "jovian clone notebook-owner/notebook-id\n",
    "```\n",
    "\n",
    "\n",
    "\n",
    "4. Enter the newly created directory using `cd directory-name` and start the Jupyter notebook.\n",
    "\n",
    "```\n",
    "jupyter notebook\n",
    "```\n",
    "\n",
    "You can now access Jupyter's web interface by clicking the link that shows up on the terminal or by visiting http://localhost:8888 on your browser. Click on the notebook file (it has a `.ipynb` extension) to open it.\n"
   ]
  },
  {
   "cell_type": "markdown",
   "metadata": {
    "id": "xNV6emhBxguW"
   },
   "source": [
    "## Downloading the Dataset\n",
    "\n",
    "Python Pandas particularly deals well with CSV files. For the same dataset for World Data is downloaded from kaggle and india's dataset is downloaded manually.\n",
    "\n",
    "The links for the datasets are given below:\n",
    "\n",
    "World dataset: https://www.kaggle.com/imdevskp/corona-virus-report\n",
    "\n",
    "India dataset: https://prsindia.org/covid-19/cases"
   ]
  },
  {
   "cell_type": "code",
   "execution_count": 283,
   "metadata": {
    "executionInfo": {
     "elapsed": 5521,
     "status": "ok",
     "timestamp": 1601671461892,
     "user": {
      "displayName": "Sai Kumar",
      "photoUrl": "https://lh3.googleusercontent.com/a-/AOh14GhM8IuO4ONgv7s96wmxXAm0JlKIwHUPdutyUTEP4w=s64",
      "userId": "15962737236170626420"
     },
     "user_tz": -330
    },
    "id": "9y1eAyfOxguX"
   },
   "outputs": [],
   "source": [
    "!pip install jovian opendatasets --upgrade --quiet"
   ]
  },
  {
   "cell_type": "code",
   "execution_count": 284,
   "metadata": {
    "collapsed": true
   },
   "outputs": [
    {
     "name": "stdout",
     "output_type": "stream",
     "text": [
      "Requirement already satisfied: pandas in /srv/conda/envs/notebook/lib/python3.7/site-packages (1.1.2)\n",
      "Requirement already satisfied: python-dateutil>=2.7.3 in /srv/conda/envs/notebook/lib/python3.7/site-packages (from pandas) (2.8.0)\n",
      "Requirement already satisfied: pytz>=2017.2 in /srv/conda/envs/notebook/lib/python3.7/site-packages (from pandas) (2020.1)\n",
      "Requirement already satisfied: numpy>=1.15.4 in /srv/conda/envs/notebook/lib/python3.7/site-packages (from pandas) (1.19.2)\n",
      "Requirement already satisfied: six>=1.5 in /srv/conda/envs/notebook/lib/python3.7/site-packages (from python-dateutil>=2.7.3->pandas) (1.12.0)\n"
     ]
    }
   ],
   "source": [
    "!pip install pandas"
   ]
  },
  {
   "cell_type": "markdown",
   "metadata": {
    "id": "6c2ACxTRxgua"
   },
   "source": [
    "Let's begin by downloading the data, and listing the files within the dataset."
   ]
  },
  {
   "cell_type": "code",
   "execution_count": 3,
   "metadata": {
    "collapsed": true
   },
   "outputs": [
    {
     "name": "stdout",
     "output_type": "stream",
     "text": [
      "Requirement already satisfied: seaborn in /srv/conda/envs/notebook/lib/python3.7/site-packages (0.11.0)\n",
      "Requirement already satisfied: numpy>=1.15 in /srv/conda/envs/notebook/lib/python3.7/site-packages (from seaborn) (1.19.2)\n",
      "Requirement already satisfied: pandas>=0.23 in /srv/conda/envs/notebook/lib/python3.7/site-packages (from seaborn) (1.1.2)\n",
      "Requirement already satisfied: matplotlib>=2.2 in /srv/conda/envs/notebook/lib/python3.7/site-packages (from seaborn) (3.3.2)\n",
      "Requirement already satisfied: scipy>=1.0 in /srv/conda/envs/notebook/lib/python3.7/site-packages (from seaborn) (1.5.2)\n",
      "Requirement already satisfied: python-dateutil>=2.7.3 in /srv/conda/envs/notebook/lib/python3.7/site-packages (from pandas>=0.23->seaborn) (2.8.0)\n",
      "Requirement already satisfied: pytz>=2017.2 in /srv/conda/envs/notebook/lib/python3.7/site-packages (from pandas>=0.23->seaborn) (2020.1)\n",
      "Requirement already satisfied: certifi>=2020.06.20 in /srv/conda/envs/notebook/lib/python3.7/site-packages (from matplotlib>=2.2->seaborn) (2020.6.20)\n",
      "Requirement already satisfied: cycler>=0.10 in /srv/conda/envs/notebook/lib/python3.7/site-packages (from matplotlib>=2.2->seaborn) (0.10.0)\n",
      "Requirement already satisfied: pyparsing!=2.0.4,!=2.1.2,!=2.1.6,>=2.0.3 in /srv/conda/envs/notebook/lib/python3.7/site-packages (from matplotlib>=2.2->seaborn) (2.4.7)\n",
      "Requirement already satisfied: kiwisolver>=1.0.1 in /srv/conda/envs/notebook/lib/python3.7/site-packages (from matplotlib>=2.2->seaborn) (1.2.0)\n",
      "Requirement already satisfied: pillow>=6.2.0 in /srv/conda/envs/notebook/lib/python3.7/site-packages (from matplotlib>=2.2->seaborn) (7.2.0)\n",
      "Requirement already satisfied: six>=1.5 in /srv/conda/envs/notebook/lib/python3.7/site-packages (from python-dateutil>=2.7.3->pandas>=0.23->seaborn) (1.12.0)\n"
     ]
    }
   ],
   "source": [
    "!pip install seaborn"
   ]
  },
  {
   "cell_type": "code",
   "execution_count": 4,
   "metadata": {
    "executionInfo": {
     "elapsed": 1958,
     "status": "ok",
     "timestamp": 1601671489430,
     "user": {
      "displayName": "Sai Kumar",
      "photoUrl": "https://lh3.googleusercontent.com/a-/AOh14GhM8IuO4ONgv7s96wmxXAm0JlKIwHUPdutyUTEP4w=s64",
      "userId": "15962737236170626420"
     },
     "user_tz": -330
    },
    "id": "XzauyyVvxgua"
   },
   "outputs": [],
   "source": [
    "# Change this\n",
    "dataset_url = 'https://www.kaggle.com/imdevskp/corona-virus-report' "
   ]
  },
  {
   "cell_type": "markdown",
   "metadata": {
    "id": "4s1SHUMrDwFq"
   },
   "source": []
  },
  {
   "cell_type": "code",
   "execution_count": 5,
   "metadata": {
    "colab": {
     "base_uri": "https://localhost:8080/",
     "height": 107
    },
    "collapsed": true,
    "executionInfo": {
     "elapsed": 4188,
     "status": "ok",
     "timestamp": 1601671497118,
     "user": {
      "displayName": "Sai Kumar",
      "photoUrl": "https://lh3.googleusercontent.com/a-/AOh14GhM8IuO4ONgv7s96wmxXAm0JlKIwHUPdutyUTEP4w=s64",
      "userId": "15962737236170626420"
     },
     "user_tz": -330
    },
    "id": "PsUHAOa3xgud",
    "outputId": "1d167295-0d5b-4e5d-a1f5-6ad6cc58b1c4"
   },
   "outputs": [
    {
     "name": "stdout",
     "output_type": "stream",
     "text": [
      "Please provide your Kaggle credentials to download this dataset. Learn more: http://bit.ly/kaggle-creds\n",
      "Your Kaggle username: saik65489\n",
      "Your Kaggle Key: ········\n"
     ]
    },
    {
     "name": "stderr",
     "output_type": "stream",
     "text": [
      "100%|██████████| 19.0M/19.0M [00:00<00:00, 349MB/s]"
     ]
    },
    {
     "name": "stdout",
     "output_type": "stream",
     "text": [
      "Downloading corona-virus-report.zip to ./corona-virus-report\n",
      "\n"
     ]
    },
    {
     "name": "stderr",
     "output_type": "stream",
     "text": [
      "\n"
     ]
    }
   ],
   "source": [
    "import opendatasets as od\n",
    "od.download(dataset_url)"
   ]
  },
  {
   "cell_type": "markdown",
   "metadata": {
    "id": "fbCE3Fj5xgug"
   },
   "source": [
    "The dataset has been downloaded and extracted."
   ]
  },
  {
   "cell_type": "code",
   "execution_count": 296,
   "metadata": {
    "executionInfo": {
     "elapsed": 1235,
     "status": "ok",
     "timestamp": 1601671502334,
     "user": {
      "displayName": "Sai Kumar",
      "photoUrl": "https://lh3.googleusercontent.com/a-/AOh14GhM8IuO4ONgv7s96wmxXAm0JlKIwHUPdutyUTEP4w=s64",
      "userId": "15962737236170626420"
     },
     "user_tz": -330
    },
    "id": "I4c5uPFcxgug"
   },
   "outputs": [],
   "source": [
    "data_dir = './corona-virus-report'"
   ]
  },
  {
   "cell_type": "code",
   "execution_count": 7,
   "metadata": {
    "colab": {
     "base_uri": "https://localhost:8080/",
     "height": 121
    },
    "executionInfo": {
     "elapsed": 1292,
     "status": "ok",
     "timestamp": 1601671505725,
     "user": {
      "displayName": "Sai Kumar",
      "photoUrl": "https://lh3.googleusercontent.com/a-/AOh14GhM8IuO4ONgv7s96wmxXAm0JlKIwHUPdutyUTEP4w=s64",
      "userId": "15962737236170626420"
     },
     "user_tz": -330
    },
    "id": "Iv1ZaiSYxguj",
    "outputId": "ef4a2f16-3220-4fe8-88cc-9c787c757275"
   },
   "outputs": [
    {
     "data": {
      "text/plain": [
       "['country_wise_latest.csv',\n",
       " 'worldometer_data.csv',\n",
       " 'full_grouped.csv',\n",
       " 'usa_county_wise.csv',\n",
       " 'covid_19_clean_complete.csv',\n",
       " 'day_wise.csv']"
      ]
     },
     "execution_count": 7,
     "metadata": {},
     "output_type": "execute_result"
    }
   ],
   "source": [
    "import os\n",
    "os.listdir(data_dir)"
   ]
  },
  {
   "cell_type": "markdown",
   "metadata": {
    "id": "9H7Spcvmxgul"
   },
   "source": [
    "Let us save and upload our work to Jovian before continuing."
   ]
  },
  {
   "cell_type": "code",
   "execution_count": 10,
   "metadata": {
    "executionInfo": {
     "elapsed": 1216,
     "status": "ok",
     "timestamp": 1601676076055,
     "user": {
      "displayName": "Sai Kumar",
      "photoUrl": "https://lh3.googleusercontent.com/a-/AOh14GhM8IuO4ONgv7s96wmxXAm0JlKIwHUPdutyUTEP4w=s64",
      "userId": "15962737236170626420"
     },
     "user_tz": -330
    },
    "id": "wT-LGonjxgum"
   },
   "outputs": [],
   "source": [
    "project_name = \"zerotopandas-course-project-covid-19-world_wise\" # change this (use lowercase letters and hyphens only)"
   ]
  },
  {
   "cell_type": "code",
   "execution_count": 8,
   "metadata": {
    "executionInfo": {
     "elapsed": 3798,
     "status": "ok",
     "timestamp": 1601671515264,
     "user": {
      "displayName": "Sai Kumar",
      "photoUrl": "https://lh3.googleusercontent.com/a-/AOh14GhM8IuO4ONgv7s96wmxXAm0JlKIwHUPdutyUTEP4w=s64",
      "userId": "15962737236170626420"
     },
     "user_tz": -330
    },
    "id": "QH_ub1Mnxguo"
   },
   "outputs": [],
   "source": [
    "!pip install jovian --upgrade -q"
   ]
  },
  {
   "cell_type": "code",
   "execution_count": 9,
   "metadata": {
    "executionInfo": {
     "elapsed": 1269,
     "status": "ok",
     "timestamp": 1601671518363,
     "user": {
      "displayName": "Sai Kumar",
      "photoUrl": "https://lh3.googleusercontent.com/a-/AOh14GhM8IuO4ONgv7s96wmxXAm0JlKIwHUPdutyUTEP4w=s64",
      "userId": "15962737236170626420"
     },
     "user_tz": -330
    },
    "id": "MxfQitgWxguq"
   },
   "outputs": [],
   "source": [
    "import jovian"
   ]
  },
  {
   "cell_type": "code",
   "execution_count": null,
   "metadata": {
    "colab": {
     "base_uri": "https://localhost:8080/",
     "height": 87
    },
    "executionInfo": {
     "elapsed": 3841,
     "status": "ok",
     "timestamp": 1601676081077,
     "user": {
      "displayName": "Sai Kumar",
      "photoUrl": "https://lh3.googleusercontent.com/a-/AOh14GhM8IuO4ONgv7s96wmxXAm0JlKIwHUPdutyUTEP4w=s64",
      "userId": "15962737236170626420"
     },
     "user_tz": -330
    },
    "id": "bRLqpwN6xgus",
    "outputId": "6c5ce60a-04b2-48d4-abcb-5b671c2109c1"
   },
   "outputs": [
    {
     "data": {
      "application/javascript": [
       "window.require && require([\"base/js/namespace\"],function(Jupyter){Jupyter.notebook.save_checkpoint()})"
      ],
      "text/plain": [
       "<IPython.core.display.Javascript object>"
      ]
     },
     "metadata": {},
     "output_type": "display_data"
    },
    {
     "name": "stdout",
     "output_type": "stream",
     "text": [
      "[jovian] Attempting to save notebook..\u001b[0m\n"
     ]
    }
   ],
   "source": [
    "jovian.commit(project=project_name)"
   ]
  },
  {
   "cell_type": "markdown",
   "metadata": {
    "id": "VEQq2Wwwxguv"
   },
   "source": [
    "## Data Preparation and Cleaning\n",
    "\n",
    "For any dataset involving large number of rows and columns, data preparation and cleaning is very important.This includes changing the date-time format(If any), imputing or deleting missing and incorrect values.\n",
    "\n",
    "For this dataset, I had to change the Date-time format to pandas date-time format.\n",
    "\n",
    "Deleted some columns which are not used in the analysis.\n",
    "\n",
    "Created new DataFrames from the existing ones for a clear analysis.\n",
    "\n"
   ]
  },
  {
   "cell_type": "code",
   "execution_count": 12,
   "metadata": {
    "executionInfo": {
     "elapsed": 1241,
     "status": "ok",
     "timestamp": 1601671553755,
     "user": {
      "displayName": "Sai Kumar",
      "photoUrl": "https://lh3.googleusercontent.com/a-/AOh14GhM8IuO4ONgv7s96wmxXAm0JlKIwHUPdutyUTEP4w=s64",
      "userId": "15962737236170626420"
     },
     "user_tz": -330
    },
    "id": "iNH2kfLyxguw"
   },
   "outputs": [],
   "source": [
    "import pandas as pd"
   ]
  },
  {
   "cell_type": "code",
   "execution_count": 13,
   "metadata": {
    "executionInfo": {
     "elapsed": 1299,
     "status": "ok",
     "timestamp": 1601671557341,
     "user": {
      "displayName": "Sai Kumar",
      "photoUrl": "https://lh3.googleusercontent.com/a-/AOh14GhM8IuO4ONgv7s96wmxXAm0JlKIwHUPdutyUTEP4w=s64",
      "userId": "15962737236170626420"
     },
     "user_tz": -330
    },
    "id": "Qcawp-gIxguy"
   },
   "outputs": [],
   "source": [
    "covid_data_df = pd.read_csv('corona-virus-report/day_wise.csv')"
   ]
  },
  {
   "cell_type": "code",
   "execution_count": 117,
   "metadata": {},
   "outputs": [],
   "source": [
    "covid_india_df = pd.read_csv('covid_india.csv')"
   ]
  },
  {
   "cell_type": "code",
   "execution_count": 300,
   "metadata": {},
   "outputs": [],
   "source": [
    "#filtering_Data\n",
    "india_df = covid_india_df[covid_india_df.Region == 'India']"
   ]
  },
  {
   "cell_type": "code",
   "execution_count": 201,
   "metadata": {},
   "outputs": [
    {
     "data": {
      "text/html": [
       "<div>\n",
       "<style scoped>\n",
       "    .dataframe tbody tr th:only-of-type {\n",
       "        vertical-align: middle;\n",
       "    }\n",
       "\n",
       "    .dataframe tbody tr th {\n",
       "        vertical-align: top;\n",
       "    }\n",
       "\n",
       "    .dataframe thead th {\n",
       "        text-align: right;\n",
       "    }\n",
       "</style>\n",
       "<table border=\"1\" class=\"dataframe\">\n",
       "  <thead>\n",
       "    <tr style=\"text-align: right;\">\n",
       "      <th></th>\n",
       "      <th>S. No.</th>\n",
       "      <th>Date</th>\n",
       "      <th>Region</th>\n",
       "      <th>Confirmed Cases</th>\n",
       "      <th>Active Cases</th>\n",
       "      <th>Cured/Discharged</th>\n",
       "      <th>Death</th>\n",
       "      <th>New Cases</th>\n",
       "      <th>New Deaths</th>\n",
       "      <th>New Recovered</th>\n",
       "    </tr>\n",
       "  </thead>\n",
       "  <tbody>\n",
       "    <tr>\n",
       "      <th>0</th>\n",
       "      <td>1</td>\n",
       "      <td>3/12/2020</td>\n",
       "      <td>India</td>\n",
       "      <td>74</td>\n",
       "      <td>71</td>\n",
       "      <td>3.0</td>\n",
       "      <td>0.0</td>\n",
       "      <td>74</td>\n",
       "      <td>0</td>\n",
       "      <td>3</td>\n",
       "    </tr>\n",
       "    <tr>\n",
       "      <th>1</th>\n",
       "      <td>2</td>\n",
       "      <td>3/13/2020</td>\n",
       "      <td>India</td>\n",
       "      <td>75</td>\n",
       "      <td>71</td>\n",
       "      <td>3.0</td>\n",
       "      <td>1.0</td>\n",
       "      <td>1</td>\n",
       "      <td>1</td>\n",
       "      <td>0</td>\n",
       "    </tr>\n",
       "    <tr>\n",
       "      <th>2</th>\n",
       "      <td>3</td>\n",
       "      <td>3/14/2020</td>\n",
       "      <td>India</td>\n",
       "      <td>84</td>\n",
       "      <td>72</td>\n",
       "      <td>10.0</td>\n",
       "      <td>2.0</td>\n",
       "      <td>9</td>\n",
       "      <td>1</td>\n",
       "      <td>7</td>\n",
       "    </tr>\n",
       "    <tr>\n",
       "      <th>3</th>\n",
       "      <td>4</td>\n",
       "      <td>3/15/2020</td>\n",
       "      <td>India</td>\n",
       "      <td>107</td>\n",
       "      <td>95</td>\n",
       "      <td>10.0</td>\n",
       "      <td>2.0</td>\n",
       "      <td>23</td>\n",
       "      <td>0</td>\n",
       "      <td>0</td>\n",
       "    </tr>\n",
       "    <tr>\n",
       "      <th>4</th>\n",
       "      <td>5</td>\n",
       "      <td>3/16/2020</td>\n",
       "      <td>India</td>\n",
       "      <td>114</td>\n",
       "      <td>99</td>\n",
       "      <td>13.0</td>\n",
       "      <td>2.0</td>\n",
       "      <td>7</td>\n",
       "      <td>0</td>\n",
       "      <td>3</td>\n",
       "    </tr>\n",
       "    <tr>\n",
       "      <th>...</th>\n",
       "      <td>...</td>\n",
       "      <td>...</td>\n",
       "      <td>...</td>\n",
       "      <td>...</td>\n",
       "      <td>...</td>\n",
       "      <td>...</td>\n",
       "      <td>...</td>\n",
       "      <td>...</td>\n",
       "      <td>...</td>\n",
       "      <td>...</td>\n",
       "    </tr>\n",
       "    <tr>\n",
       "      <th>202</th>\n",
       "      <td>203</td>\n",
       "      <td>9/30/2020</td>\n",
       "      <td>India</td>\n",
       "      <td>6225763</td>\n",
       "      <td>940441</td>\n",
       "      <td>5187825.0</td>\n",
       "      <td>97497.0</td>\n",
       "      <td>80472</td>\n",
       "      <td>1179</td>\n",
       "      <td>86428</td>\n",
       "    </tr>\n",
       "    <tr>\n",
       "      <th>203</th>\n",
       "      <td>204</td>\n",
       "      <td>10/1/2020</td>\n",
       "      <td>India</td>\n",
       "      <td>6312584</td>\n",
       "      <td>940705</td>\n",
       "      <td>5273201.0</td>\n",
       "      <td>98678.0</td>\n",
       "      <td>86821</td>\n",
       "      <td>1181</td>\n",
       "      <td>85376</td>\n",
       "    </tr>\n",
       "    <tr>\n",
       "      <th>204</th>\n",
       "      <td>205</td>\n",
       "      <td>10/2/2020</td>\n",
       "      <td>India</td>\n",
       "      <td>6394068</td>\n",
       "      <td>942217</td>\n",
       "      <td>5352078.0</td>\n",
       "      <td>99773.0</td>\n",
       "      <td>81484</td>\n",
       "      <td>1095</td>\n",
       "      <td>78877</td>\n",
       "    </tr>\n",
       "    <tr>\n",
       "      <th>205</th>\n",
       "      <td>206</td>\n",
       "      <td>10/3/2020</td>\n",
       "      <td>India</td>\n",
       "      <td>6473544</td>\n",
       "      <td>944996</td>\n",
       "      <td>5427706.0</td>\n",
       "      <td>100842.0</td>\n",
       "      <td>79476</td>\n",
       "      <td>1069</td>\n",
       "      <td>75628</td>\n",
       "    </tr>\n",
       "    <tr>\n",
       "      <th>206</th>\n",
       "      <td>207</td>\n",
       "      <td>10/4/2020</td>\n",
       "      <td>India</td>\n",
       "      <td>6549373</td>\n",
       "      <td>937625</td>\n",
       "      <td>5509966.0</td>\n",
       "      <td>101782.0</td>\n",
       "      <td>75829</td>\n",
       "      <td>940</td>\n",
       "      <td>82260</td>\n",
       "    </tr>\n",
       "  </tbody>\n",
       "</table>\n",
       "<p>207 rows × 10 columns</p>\n",
       "</div>"
      ],
      "text/plain": [
       "     S. No.       Date Region  Confirmed Cases  Active Cases  \\\n",
       "0         1  3/12/2020  India               74            71   \n",
       "1         2  3/13/2020  India               75            71   \n",
       "2         3  3/14/2020  India               84            72   \n",
       "3         4  3/15/2020  India              107            95   \n",
       "4         5  3/16/2020  India              114            99   \n",
       "..      ...        ...    ...              ...           ...   \n",
       "202     203  9/30/2020  India          6225763        940441   \n",
       "203     204  10/1/2020  India          6312584        940705   \n",
       "204     205  10/2/2020  India          6394068        942217   \n",
       "205     206  10/3/2020  India          6473544        944996   \n",
       "206     207  10/4/2020  India          6549373        937625   \n",
       "\n",
       "     Cured/Discharged     Death  New Cases  New Deaths  New Recovered  \n",
       "0                 3.0       0.0         74           0              3  \n",
       "1                 3.0       1.0          1           1              0  \n",
       "2                10.0       2.0          9           1              7  \n",
       "3                10.0       2.0         23           0              0  \n",
       "4                13.0       2.0          7           0              3  \n",
       "..                ...       ...        ...         ...            ...  \n",
       "202         5187825.0   97497.0      80472        1179          86428  \n",
       "203         5273201.0   98678.0      86821        1181          85376  \n",
       "204         5352078.0   99773.0      81484        1095          78877  \n",
       "205         5427706.0  100842.0      79476        1069          75628  \n",
       "206         5509966.0  101782.0      75829         940          82260  \n",
       "\n",
       "[207 rows x 10 columns]"
      ]
     },
     "execution_count": 201,
     "metadata": {},
     "output_type": "execute_result"
    }
   ],
   "source": [
    "india_df"
   ]
  },
  {
   "cell_type": "markdown",
   "metadata": {},
   "source": [
    "India dataframe contains 207 rows and 10 columns.\n",
    "\n",
    "Let's view the list of columns in the data frame."
   ]
  },
  {
   "cell_type": "code",
   "execution_count": 202,
   "metadata": {},
   "outputs": [
    {
     "data": {
      "text/plain": [
       "Index(['S. No.', 'Date', 'Region', 'Confirmed Cases', 'Active Cases',\n",
       "       'Cured/Discharged', 'Death', 'New Cases', 'New Deaths',\n",
       "       'New Recovered'],\n",
       "      dtype='object')"
      ]
     },
     "execution_count": 202,
     "metadata": {},
     "output_type": "execute_result"
    }
   ],
   "source": [
    "india_df.columns"
   ]
  },
  {
   "cell_type": "code",
   "execution_count": 301,
   "metadata": {},
   "outputs": [],
   "source": [
    "#deleting useless columns\n",
    "india_df = india_df.drop(columns= ['S. No.','Region'])"
   ]
  },
  {
   "cell_type": "code",
   "execution_count": 204,
   "metadata": {},
   "outputs": [
    {
     "data": {
      "text/html": [
       "<div>\n",
       "<style scoped>\n",
       "    .dataframe tbody tr th:only-of-type {\n",
       "        vertical-align: middle;\n",
       "    }\n",
       "\n",
       "    .dataframe tbody tr th {\n",
       "        vertical-align: top;\n",
       "    }\n",
       "\n",
       "    .dataframe thead th {\n",
       "        text-align: right;\n",
       "    }\n",
       "</style>\n",
       "<table border=\"1\" class=\"dataframe\">\n",
       "  <thead>\n",
       "    <tr style=\"text-align: right;\">\n",
       "      <th></th>\n",
       "      <th>Date</th>\n",
       "      <th>Confirmed Cases</th>\n",
       "      <th>Active Cases</th>\n",
       "      <th>Cured/Discharged</th>\n",
       "      <th>Death</th>\n",
       "      <th>New Cases</th>\n",
       "      <th>New Deaths</th>\n",
       "      <th>New Recovered</th>\n",
       "    </tr>\n",
       "  </thead>\n",
       "  <tbody>\n",
       "    <tr>\n",
       "      <th>0</th>\n",
       "      <td>3/12/2020</td>\n",
       "      <td>74</td>\n",
       "      <td>71</td>\n",
       "      <td>3.0</td>\n",
       "      <td>0.0</td>\n",
       "      <td>74</td>\n",
       "      <td>0</td>\n",
       "      <td>3</td>\n",
       "    </tr>\n",
       "    <tr>\n",
       "      <th>1</th>\n",
       "      <td>3/13/2020</td>\n",
       "      <td>75</td>\n",
       "      <td>71</td>\n",
       "      <td>3.0</td>\n",
       "      <td>1.0</td>\n",
       "      <td>1</td>\n",
       "      <td>1</td>\n",
       "      <td>0</td>\n",
       "    </tr>\n",
       "    <tr>\n",
       "      <th>2</th>\n",
       "      <td>3/14/2020</td>\n",
       "      <td>84</td>\n",
       "      <td>72</td>\n",
       "      <td>10.0</td>\n",
       "      <td>2.0</td>\n",
       "      <td>9</td>\n",
       "      <td>1</td>\n",
       "      <td>7</td>\n",
       "    </tr>\n",
       "    <tr>\n",
       "      <th>3</th>\n",
       "      <td>3/15/2020</td>\n",
       "      <td>107</td>\n",
       "      <td>95</td>\n",
       "      <td>10.0</td>\n",
       "      <td>2.0</td>\n",
       "      <td>23</td>\n",
       "      <td>0</td>\n",
       "      <td>0</td>\n",
       "    </tr>\n",
       "    <tr>\n",
       "      <th>4</th>\n",
       "      <td>3/16/2020</td>\n",
       "      <td>114</td>\n",
       "      <td>99</td>\n",
       "      <td>13.0</td>\n",
       "      <td>2.0</td>\n",
       "      <td>7</td>\n",
       "      <td>0</td>\n",
       "      <td>3</td>\n",
       "    </tr>\n",
       "    <tr>\n",
       "      <th>...</th>\n",
       "      <td>...</td>\n",
       "      <td>...</td>\n",
       "      <td>...</td>\n",
       "      <td>...</td>\n",
       "      <td>...</td>\n",
       "      <td>...</td>\n",
       "      <td>...</td>\n",
       "      <td>...</td>\n",
       "    </tr>\n",
       "    <tr>\n",
       "      <th>202</th>\n",
       "      <td>9/30/2020</td>\n",
       "      <td>6225763</td>\n",
       "      <td>940441</td>\n",
       "      <td>5187825.0</td>\n",
       "      <td>97497.0</td>\n",
       "      <td>80472</td>\n",
       "      <td>1179</td>\n",
       "      <td>86428</td>\n",
       "    </tr>\n",
       "    <tr>\n",
       "      <th>203</th>\n",
       "      <td>10/1/2020</td>\n",
       "      <td>6312584</td>\n",
       "      <td>940705</td>\n",
       "      <td>5273201.0</td>\n",
       "      <td>98678.0</td>\n",
       "      <td>86821</td>\n",
       "      <td>1181</td>\n",
       "      <td>85376</td>\n",
       "    </tr>\n",
       "    <tr>\n",
       "      <th>204</th>\n",
       "      <td>10/2/2020</td>\n",
       "      <td>6394068</td>\n",
       "      <td>942217</td>\n",
       "      <td>5352078.0</td>\n",
       "      <td>99773.0</td>\n",
       "      <td>81484</td>\n",
       "      <td>1095</td>\n",
       "      <td>78877</td>\n",
       "    </tr>\n",
       "    <tr>\n",
       "      <th>205</th>\n",
       "      <td>10/3/2020</td>\n",
       "      <td>6473544</td>\n",
       "      <td>944996</td>\n",
       "      <td>5427706.0</td>\n",
       "      <td>100842.0</td>\n",
       "      <td>79476</td>\n",
       "      <td>1069</td>\n",
       "      <td>75628</td>\n",
       "    </tr>\n",
       "    <tr>\n",
       "      <th>206</th>\n",
       "      <td>10/4/2020</td>\n",
       "      <td>6549373</td>\n",
       "      <td>937625</td>\n",
       "      <td>5509966.0</td>\n",
       "      <td>101782.0</td>\n",
       "      <td>75829</td>\n",
       "      <td>940</td>\n",
       "      <td>82260</td>\n",
       "    </tr>\n",
       "  </tbody>\n",
       "</table>\n",
       "<p>207 rows × 8 columns</p>\n",
       "</div>"
      ],
      "text/plain": [
       "          Date  Confirmed Cases  Active Cases  Cured/Discharged     Death  \\\n",
       "0    3/12/2020               74            71               3.0       0.0   \n",
       "1    3/13/2020               75            71               3.0       1.0   \n",
       "2    3/14/2020               84            72              10.0       2.0   \n",
       "3    3/15/2020              107            95              10.0       2.0   \n",
       "4    3/16/2020              114            99              13.0       2.0   \n",
       "..         ...              ...           ...               ...       ...   \n",
       "202  9/30/2020          6225763        940441         5187825.0   97497.0   \n",
       "203  10/1/2020          6312584        940705         5273201.0   98678.0   \n",
       "204  10/2/2020          6394068        942217         5352078.0   99773.0   \n",
       "205  10/3/2020          6473544        944996         5427706.0  100842.0   \n",
       "206  10/4/2020          6549373        937625         5509966.0  101782.0   \n",
       "\n",
       "     New Cases  New Deaths  New Recovered  \n",
       "0           74           0              3  \n",
       "1            1           1              0  \n",
       "2            9           1              7  \n",
       "3           23           0              0  \n",
       "4            7           0              3  \n",
       "..         ...         ...            ...  \n",
       "202      80472        1179          86428  \n",
       "203      86821        1181          85376  \n",
       "204      81484        1095          78877  \n",
       "205      79476        1069          75628  \n",
       "206      75829         940          82260  \n",
       "\n",
       "[207 rows x 8 columns]"
      ]
     },
     "execution_count": 204,
     "metadata": {},
     "output_type": "execute_result"
    }
   ],
   "source": [
    "india_df"
   ]
  },
  {
   "cell_type": "markdown",
   "metadata": {},
   "source": [
    "Changing the Date-Time Format"
   ]
  },
  {
   "cell_type": "code",
   "execution_count": 205,
   "metadata": {},
   "outputs": [],
   "source": [
    "india_df['year'] = pd.DatetimeIndex(india_df.Date).year\n",
    "india_df['month'] = pd.DatetimeIndex(india_df.Date).month\n",
    "india_df['day'] = pd.DatetimeIndex(india_df.Date).day\n",
    "india_df['weekday'] = pd.DatetimeIndex(india_df.Date).weekday"
   ]
  },
  {
   "cell_type": "code",
   "execution_count": 206,
   "metadata": {},
   "outputs": [],
   "source": [
    "india_df['Date'] = pd.to_datetime(india_df.Date)"
   ]
  },
  {
   "cell_type": "markdown",
   "metadata": {},
   "source": [
    "The columns considered for the analysis of India data are Date, New Cases, New recovered, New deaths, No. of Countries."
   ]
  },
  {
   "cell_type": "code",
   "execution_count": 207,
   "metadata": {},
   "outputs": [
    {
     "data": {
      "text/html": [
       "<div>\n",
       "<style scoped>\n",
       "    .dataframe tbody tr th:only-of-type {\n",
       "        vertical-align: middle;\n",
       "    }\n",
       "\n",
       "    .dataframe tbody tr th {\n",
       "        vertical-align: top;\n",
       "    }\n",
       "\n",
       "    .dataframe thead th {\n",
       "        text-align: right;\n",
       "    }\n",
       "</style>\n",
       "<table border=\"1\" class=\"dataframe\">\n",
       "  <thead>\n",
       "    <tr style=\"text-align: right;\">\n",
       "      <th></th>\n",
       "      <th>Date</th>\n",
       "      <th>Confirmed Cases</th>\n",
       "      <th>Active Cases</th>\n",
       "      <th>Cured/Discharged</th>\n",
       "      <th>Death</th>\n",
       "      <th>New Cases</th>\n",
       "      <th>New Deaths</th>\n",
       "      <th>New Recovered</th>\n",
       "      <th>year</th>\n",
       "      <th>month</th>\n",
       "      <th>day</th>\n",
       "      <th>weekday</th>\n",
       "    </tr>\n",
       "  </thead>\n",
       "  <tbody>\n",
       "    <tr>\n",
       "      <th>0</th>\n",
       "      <td>2020-03-12</td>\n",
       "      <td>74</td>\n",
       "      <td>71</td>\n",
       "      <td>3.0</td>\n",
       "      <td>0.0</td>\n",
       "      <td>74</td>\n",
       "      <td>0</td>\n",
       "      <td>3</td>\n",
       "      <td>2020</td>\n",
       "      <td>3</td>\n",
       "      <td>12</td>\n",
       "      <td>3</td>\n",
       "    </tr>\n",
       "    <tr>\n",
       "      <th>1</th>\n",
       "      <td>2020-03-13</td>\n",
       "      <td>75</td>\n",
       "      <td>71</td>\n",
       "      <td>3.0</td>\n",
       "      <td>1.0</td>\n",
       "      <td>1</td>\n",
       "      <td>1</td>\n",
       "      <td>0</td>\n",
       "      <td>2020</td>\n",
       "      <td>3</td>\n",
       "      <td>13</td>\n",
       "      <td>4</td>\n",
       "    </tr>\n",
       "    <tr>\n",
       "      <th>2</th>\n",
       "      <td>2020-03-14</td>\n",
       "      <td>84</td>\n",
       "      <td>72</td>\n",
       "      <td>10.0</td>\n",
       "      <td>2.0</td>\n",
       "      <td>9</td>\n",
       "      <td>1</td>\n",
       "      <td>7</td>\n",
       "      <td>2020</td>\n",
       "      <td>3</td>\n",
       "      <td>14</td>\n",
       "      <td>5</td>\n",
       "    </tr>\n",
       "    <tr>\n",
       "      <th>3</th>\n",
       "      <td>2020-03-15</td>\n",
       "      <td>107</td>\n",
       "      <td>95</td>\n",
       "      <td>10.0</td>\n",
       "      <td>2.0</td>\n",
       "      <td>23</td>\n",
       "      <td>0</td>\n",
       "      <td>0</td>\n",
       "      <td>2020</td>\n",
       "      <td>3</td>\n",
       "      <td>15</td>\n",
       "      <td>6</td>\n",
       "    </tr>\n",
       "    <tr>\n",
       "      <th>4</th>\n",
       "      <td>2020-03-16</td>\n",
       "      <td>114</td>\n",
       "      <td>99</td>\n",
       "      <td>13.0</td>\n",
       "      <td>2.0</td>\n",
       "      <td>7</td>\n",
       "      <td>0</td>\n",
       "      <td>3</td>\n",
       "      <td>2020</td>\n",
       "      <td>3</td>\n",
       "      <td>16</td>\n",
       "      <td>0</td>\n",
       "    </tr>\n",
       "    <tr>\n",
       "      <th>...</th>\n",
       "      <td>...</td>\n",
       "      <td>...</td>\n",
       "      <td>...</td>\n",
       "      <td>...</td>\n",
       "      <td>...</td>\n",
       "      <td>...</td>\n",
       "      <td>...</td>\n",
       "      <td>...</td>\n",
       "      <td>...</td>\n",
       "      <td>...</td>\n",
       "      <td>...</td>\n",
       "      <td>...</td>\n",
       "    </tr>\n",
       "    <tr>\n",
       "      <th>202</th>\n",
       "      <td>2020-09-30</td>\n",
       "      <td>6225763</td>\n",
       "      <td>940441</td>\n",
       "      <td>5187825.0</td>\n",
       "      <td>97497.0</td>\n",
       "      <td>80472</td>\n",
       "      <td>1179</td>\n",
       "      <td>86428</td>\n",
       "      <td>2020</td>\n",
       "      <td>9</td>\n",
       "      <td>30</td>\n",
       "      <td>2</td>\n",
       "    </tr>\n",
       "    <tr>\n",
       "      <th>203</th>\n",
       "      <td>2020-10-01</td>\n",
       "      <td>6312584</td>\n",
       "      <td>940705</td>\n",
       "      <td>5273201.0</td>\n",
       "      <td>98678.0</td>\n",
       "      <td>86821</td>\n",
       "      <td>1181</td>\n",
       "      <td>85376</td>\n",
       "      <td>2020</td>\n",
       "      <td>10</td>\n",
       "      <td>1</td>\n",
       "      <td>3</td>\n",
       "    </tr>\n",
       "    <tr>\n",
       "      <th>204</th>\n",
       "      <td>2020-10-02</td>\n",
       "      <td>6394068</td>\n",
       "      <td>942217</td>\n",
       "      <td>5352078.0</td>\n",
       "      <td>99773.0</td>\n",
       "      <td>81484</td>\n",
       "      <td>1095</td>\n",
       "      <td>78877</td>\n",
       "      <td>2020</td>\n",
       "      <td>10</td>\n",
       "      <td>2</td>\n",
       "      <td>4</td>\n",
       "    </tr>\n",
       "    <tr>\n",
       "      <th>205</th>\n",
       "      <td>2020-10-03</td>\n",
       "      <td>6473544</td>\n",
       "      <td>944996</td>\n",
       "      <td>5427706.0</td>\n",
       "      <td>100842.0</td>\n",
       "      <td>79476</td>\n",
       "      <td>1069</td>\n",
       "      <td>75628</td>\n",
       "      <td>2020</td>\n",
       "      <td>10</td>\n",
       "      <td>3</td>\n",
       "      <td>5</td>\n",
       "    </tr>\n",
       "    <tr>\n",
       "      <th>206</th>\n",
       "      <td>2020-10-04</td>\n",
       "      <td>6549373</td>\n",
       "      <td>937625</td>\n",
       "      <td>5509966.0</td>\n",
       "      <td>101782.0</td>\n",
       "      <td>75829</td>\n",
       "      <td>940</td>\n",
       "      <td>82260</td>\n",
       "      <td>2020</td>\n",
       "      <td>10</td>\n",
       "      <td>4</td>\n",
       "      <td>6</td>\n",
       "    </tr>\n",
       "  </tbody>\n",
       "</table>\n",
       "<p>207 rows × 12 columns</p>\n",
       "</div>"
      ],
      "text/plain": [
       "          Date  Confirmed Cases  Active Cases  Cured/Discharged     Death  \\\n",
       "0   2020-03-12               74            71               3.0       0.0   \n",
       "1   2020-03-13               75            71               3.0       1.0   \n",
       "2   2020-03-14               84            72              10.0       2.0   \n",
       "3   2020-03-15              107            95              10.0       2.0   \n",
       "4   2020-03-16              114            99              13.0       2.0   \n",
       "..         ...              ...           ...               ...       ...   \n",
       "202 2020-09-30          6225763        940441         5187825.0   97497.0   \n",
       "203 2020-10-01          6312584        940705         5273201.0   98678.0   \n",
       "204 2020-10-02          6394068        942217         5352078.0   99773.0   \n",
       "205 2020-10-03          6473544        944996         5427706.0  100842.0   \n",
       "206 2020-10-04          6549373        937625         5509966.0  101782.0   \n",
       "\n",
       "     New Cases  New Deaths  New Recovered  year  month  day  weekday  \n",
       "0           74           0              3  2020      3   12        3  \n",
       "1            1           1              0  2020      3   13        4  \n",
       "2            9           1              7  2020      3   14        5  \n",
       "3           23           0              0  2020      3   15        6  \n",
       "4            7           0              3  2020      3   16        0  \n",
       "..         ...         ...            ...   ...    ...  ...      ...  \n",
       "202      80472        1179          86428  2020      9   30        2  \n",
       "203      86821        1181          85376  2020     10    1        3  \n",
       "204      81484        1095          78877  2020     10    2        4  \n",
       "205      79476        1069          75628  2020     10    3        5  \n",
       "206      75829         940          82260  2020     10    4        6  \n",
       "\n",
       "[207 rows x 12 columns]"
      ]
     },
     "execution_count": 207,
     "metadata": {},
     "output_type": "execute_result"
    }
   ],
   "source": [
    "india_df"
   ]
  },
  {
   "cell_type": "code",
   "execution_count": 208,
   "metadata": {
    "colab": {
     "base_uri": "https://localhost:8080/",
     "height": 606
    },
    "executionInfo": {
     "elapsed": 1268,
     "status": "ok",
     "timestamp": 1601671559885,
     "user": {
      "displayName": "Sai Kumar",
      "photoUrl": "https://lh3.googleusercontent.com/a-/AOh14GhM8IuO4ONgv7s96wmxXAm0JlKIwHUPdutyUTEP4w=s64",
      "userId": "15962737236170626420"
     },
     "user_tz": -330
    },
    "id": "-1S8hrf7xgu1",
    "outputId": "bfda62cd-d67c-445b-941d-fecf2ace3fb7"
   },
   "outputs": [
    {
     "data": {
      "text/html": [
       "<div>\n",
       "<style scoped>\n",
       "    .dataframe tbody tr th:only-of-type {\n",
       "        vertical-align: middle;\n",
       "    }\n",
       "\n",
       "    .dataframe tbody tr th {\n",
       "        vertical-align: top;\n",
       "    }\n",
       "\n",
       "    .dataframe thead th {\n",
       "        text-align: right;\n",
       "    }\n",
       "</style>\n",
       "<table border=\"1\" class=\"dataframe\">\n",
       "  <thead>\n",
       "    <tr style=\"text-align: right;\">\n",
       "      <th></th>\n",
       "      <th>Date</th>\n",
       "      <th>Confirmed</th>\n",
       "      <th>Deaths</th>\n",
       "      <th>Recovered</th>\n",
       "      <th>Active</th>\n",
       "      <th>New cases</th>\n",
       "      <th>New deaths</th>\n",
       "      <th>New recovered</th>\n",
       "      <th>Deaths / 100 Cases</th>\n",
       "      <th>Recovered / 100 Cases</th>\n",
       "      <th>Deaths / 100 Recovered</th>\n",
       "      <th>No. of countries</th>\n",
       "    </tr>\n",
       "  </thead>\n",
       "  <tbody>\n",
       "    <tr>\n",
       "      <th>0</th>\n",
       "      <td>2020-01-22</td>\n",
       "      <td>555</td>\n",
       "      <td>17</td>\n",
       "      <td>28</td>\n",
       "      <td>510</td>\n",
       "      <td>0</td>\n",
       "      <td>0</td>\n",
       "      <td>0</td>\n",
       "      <td>3.06</td>\n",
       "      <td>5.05</td>\n",
       "      <td>60.71</td>\n",
       "      <td>6</td>\n",
       "    </tr>\n",
       "    <tr>\n",
       "      <th>1</th>\n",
       "      <td>2020-01-23</td>\n",
       "      <td>654</td>\n",
       "      <td>18</td>\n",
       "      <td>30</td>\n",
       "      <td>606</td>\n",
       "      <td>99</td>\n",
       "      <td>1</td>\n",
       "      <td>2</td>\n",
       "      <td>2.75</td>\n",
       "      <td>4.59</td>\n",
       "      <td>60.00</td>\n",
       "      <td>8</td>\n",
       "    </tr>\n",
       "    <tr>\n",
       "      <th>2</th>\n",
       "      <td>2020-01-24</td>\n",
       "      <td>941</td>\n",
       "      <td>26</td>\n",
       "      <td>36</td>\n",
       "      <td>879</td>\n",
       "      <td>287</td>\n",
       "      <td>8</td>\n",
       "      <td>6</td>\n",
       "      <td>2.76</td>\n",
       "      <td>3.83</td>\n",
       "      <td>72.22</td>\n",
       "      <td>9</td>\n",
       "    </tr>\n",
       "    <tr>\n",
       "      <th>3</th>\n",
       "      <td>2020-01-25</td>\n",
       "      <td>1434</td>\n",
       "      <td>42</td>\n",
       "      <td>39</td>\n",
       "      <td>1353</td>\n",
       "      <td>493</td>\n",
       "      <td>16</td>\n",
       "      <td>3</td>\n",
       "      <td>2.93</td>\n",
       "      <td>2.72</td>\n",
       "      <td>107.69</td>\n",
       "      <td>11</td>\n",
       "    </tr>\n",
       "    <tr>\n",
       "      <th>4</th>\n",
       "      <td>2020-01-26</td>\n",
       "      <td>2118</td>\n",
       "      <td>56</td>\n",
       "      <td>52</td>\n",
       "      <td>2010</td>\n",
       "      <td>684</td>\n",
       "      <td>14</td>\n",
       "      <td>13</td>\n",
       "      <td>2.64</td>\n",
       "      <td>2.46</td>\n",
       "      <td>107.69</td>\n",
       "      <td>13</td>\n",
       "    </tr>\n",
       "    <tr>\n",
       "      <th>...</th>\n",
       "      <td>...</td>\n",
       "      <td>...</td>\n",
       "      <td>...</td>\n",
       "      <td>...</td>\n",
       "      <td>...</td>\n",
       "      <td>...</td>\n",
       "      <td>...</td>\n",
       "      <td>...</td>\n",
       "      <td>...</td>\n",
       "      <td>...</td>\n",
       "      <td>...</td>\n",
       "      <td>...</td>\n",
       "    </tr>\n",
       "    <tr>\n",
       "      <th>183</th>\n",
       "      <td>2020-07-23</td>\n",
       "      <td>15510481</td>\n",
       "      <td>633506</td>\n",
       "      <td>8710969</td>\n",
       "      <td>6166006</td>\n",
       "      <td>282756</td>\n",
       "      <td>9966</td>\n",
       "      <td>169714</td>\n",
       "      <td>4.08</td>\n",
       "      <td>56.16</td>\n",
       "      <td>7.27</td>\n",
       "      <td>187</td>\n",
       "    </tr>\n",
       "    <tr>\n",
       "      <th>184</th>\n",
       "      <td>2020-07-24</td>\n",
       "      <td>15791645</td>\n",
       "      <td>639650</td>\n",
       "      <td>8939705</td>\n",
       "      <td>6212290</td>\n",
       "      <td>281164</td>\n",
       "      <td>6144</td>\n",
       "      <td>228736</td>\n",
       "      <td>4.05</td>\n",
       "      <td>56.61</td>\n",
       "      <td>7.16</td>\n",
       "      <td>187</td>\n",
       "    </tr>\n",
       "    <tr>\n",
       "      <th>185</th>\n",
       "      <td>2020-07-25</td>\n",
       "      <td>16047190</td>\n",
       "      <td>644517</td>\n",
       "      <td>9158743</td>\n",
       "      <td>6243930</td>\n",
       "      <td>255545</td>\n",
       "      <td>4867</td>\n",
       "      <td>219038</td>\n",
       "      <td>4.02</td>\n",
       "      <td>57.07</td>\n",
       "      <td>7.04</td>\n",
       "      <td>187</td>\n",
       "    </tr>\n",
       "    <tr>\n",
       "      <th>186</th>\n",
       "      <td>2020-07-26</td>\n",
       "      <td>16251796</td>\n",
       "      <td>648621</td>\n",
       "      <td>9293464</td>\n",
       "      <td>6309711</td>\n",
       "      <td>204606</td>\n",
       "      <td>4104</td>\n",
       "      <td>134721</td>\n",
       "      <td>3.99</td>\n",
       "      <td>57.18</td>\n",
       "      <td>6.98</td>\n",
       "      <td>187</td>\n",
       "    </tr>\n",
       "    <tr>\n",
       "      <th>187</th>\n",
       "      <td>2020-07-27</td>\n",
       "      <td>16480485</td>\n",
       "      <td>654036</td>\n",
       "      <td>9468087</td>\n",
       "      <td>6358362</td>\n",
       "      <td>228693</td>\n",
       "      <td>5415</td>\n",
       "      <td>174623</td>\n",
       "      <td>3.97</td>\n",
       "      <td>57.45</td>\n",
       "      <td>6.91</td>\n",
       "      <td>187</td>\n",
       "    </tr>\n",
       "  </tbody>\n",
       "</table>\n",
       "<p>188 rows × 12 columns</p>\n",
       "</div>"
      ],
      "text/plain": [
       "           Date  Confirmed  Deaths  Recovered   Active  New cases  New deaths  \\\n",
       "0    2020-01-22        555      17         28      510          0           0   \n",
       "1    2020-01-23        654      18         30      606         99           1   \n",
       "2    2020-01-24        941      26         36      879        287           8   \n",
       "3    2020-01-25       1434      42         39     1353        493          16   \n",
       "4    2020-01-26       2118      56         52     2010        684          14   \n",
       "..          ...        ...     ...        ...      ...        ...         ...   \n",
       "183  2020-07-23   15510481  633506    8710969  6166006     282756        9966   \n",
       "184  2020-07-24   15791645  639650    8939705  6212290     281164        6144   \n",
       "185  2020-07-25   16047190  644517    9158743  6243930     255545        4867   \n",
       "186  2020-07-26   16251796  648621    9293464  6309711     204606        4104   \n",
       "187  2020-07-27   16480485  654036    9468087  6358362     228693        5415   \n",
       "\n",
       "     New recovered  Deaths / 100 Cases  Recovered / 100 Cases  \\\n",
       "0                0                3.06                   5.05   \n",
       "1                2                2.75                   4.59   \n",
       "2                6                2.76                   3.83   \n",
       "3                3                2.93                   2.72   \n",
       "4               13                2.64                   2.46   \n",
       "..             ...                 ...                    ...   \n",
       "183         169714                4.08                  56.16   \n",
       "184         228736                4.05                  56.61   \n",
       "185         219038                4.02                  57.07   \n",
       "186         134721                3.99                  57.18   \n",
       "187         174623                3.97                  57.45   \n",
       "\n",
       "     Deaths / 100 Recovered  No. of countries  \n",
       "0                     60.71                 6  \n",
       "1                     60.00                 8  \n",
       "2                     72.22                 9  \n",
       "3                    107.69                11  \n",
       "4                    107.69                13  \n",
       "..                      ...               ...  \n",
       "183                    7.27               187  \n",
       "184                    7.16               187  \n",
       "185                    7.04               187  \n",
       "186                    6.98               187  \n",
       "187                    6.91               187  \n",
       "\n",
       "[188 rows x 12 columns]"
      ]
     },
     "execution_count": 208,
     "metadata": {},
     "output_type": "execute_result"
    }
   ],
   "source": [
    "covid_data_df"
   ]
  },
  {
   "cell_type": "markdown",
   "metadata": {},
   "source": [
    "The world dataframe contains 188 rows and 12 columns.\n",
    "\n",
    "Let's view the list of columns in the data frame."
   ]
  },
  {
   "cell_type": "code",
   "execution_count": 209,
   "metadata": {
    "colab": {
     "base_uri": "https://localhost:8080/",
     "height": 87
    },
    "executionInfo": {
     "elapsed": 1211,
     "status": "ok",
     "timestamp": 1601671565521,
     "user": {
      "displayName": "Sai Kumar",
      "photoUrl": "https://lh3.googleusercontent.com/a-/AOh14GhM8IuO4ONgv7s96wmxXAm0JlKIwHUPdutyUTEP4w=s64",
      "userId": "15962737236170626420"
     },
     "user_tz": -330
    },
    "id": "BgV7ZUslxgu3",
    "outputId": "b7d13d8b-e228-4dea-b1c0-16eb2289ca02"
   },
   "outputs": [
    {
     "data": {
      "text/plain": [
       "Index(['Date', 'Confirmed', 'Deaths', 'Recovered', 'Active', 'New cases',\n",
       "       'New deaths', 'New recovered', 'Deaths / 100 Cases',\n",
       "       'Recovered / 100 Cases', 'Deaths / 100 Recovered', 'No. of countries'],\n",
       "      dtype='object')"
      ]
     },
     "execution_count": 209,
     "metadata": {},
     "output_type": "execute_result"
    }
   ],
   "source": [
    "covid_data_df.columns"
   ]
  },
  {
   "cell_type": "code",
   "execution_count": 210,
   "metadata": {
    "executionInfo": {
     "elapsed": 1215,
     "status": "ok",
     "timestamp": 1601671672322,
     "user": {
      "displayName": "Sai Kumar",
      "photoUrl": "https://lh3.googleusercontent.com/a-/AOh14GhM8IuO4ONgv7s96wmxXAm0JlKIwHUPdutyUTEP4w=s64",
      "userId": "15962737236170626420"
     },
     "user_tz": -330
    },
    "id": "dZ_ul9qbxgu5"
   },
   "outputs": [],
   "source": [
    "world_df = covid_data_df.drop(columns=['Deaths / 100 Cases','Recovered / 100 Cases', 'Deaths / 100 Recovered'])"
   ]
  },
  {
   "cell_type": "markdown",
   "metadata": {},
   "source": [
    "The columns considered for the analysis of world data are Date, New Cases, New recovered, New deaths, No. of Countries."
   ]
  },
  {
   "cell_type": "code",
   "execution_count": 211,
   "metadata": {
    "colab": {
     "base_uri": "https://localhost:8080/",
     "height": 415
    },
    "executionInfo": {
     "elapsed": 1272,
     "status": "ok",
     "timestamp": 1601671679278,
     "user": {
      "displayName": "Sai Kumar",
      "photoUrl": "https://lh3.googleusercontent.com/a-/AOh14GhM8IuO4ONgv7s96wmxXAm0JlKIwHUPdutyUTEP4w=s64",
      "userId": "15962737236170626420"
     },
     "user_tz": -330
    },
    "id": "0bqe98f9xgu7",
    "outputId": "10118fec-c856-4889-c981-f8916c266e09"
   },
   "outputs": [
    {
     "data": {
      "text/html": [
       "<div>\n",
       "<style scoped>\n",
       "    .dataframe tbody tr th:only-of-type {\n",
       "        vertical-align: middle;\n",
       "    }\n",
       "\n",
       "    .dataframe tbody tr th {\n",
       "        vertical-align: top;\n",
       "    }\n",
       "\n",
       "    .dataframe thead th {\n",
       "        text-align: right;\n",
       "    }\n",
       "</style>\n",
       "<table border=\"1\" class=\"dataframe\">\n",
       "  <thead>\n",
       "    <tr style=\"text-align: right;\">\n",
       "      <th></th>\n",
       "      <th>Date</th>\n",
       "      <th>Confirmed</th>\n",
       "      <th>Deaths</th>\n",
       "      <th>Recovered</th>\n",
       "      <th>Active</th>\n",
       "      <th>New cases</th>\n",
       "      <th>New deaths</th>\n",
       "      <th>New recovered</th>\n",
       "      <th>No. of countries</th>\n",
       "    </tr>\n",
       "  </thead>\n",
       "  <tbody>\n",
       "    <tr>\n",
       "      <th>0</th>\n",
       "      <td>2020-01-22</td>\n",
       "      <td>555</td>\n",
       "      <td>17</td>\n",
       "      <td>28</td>\n",
       "      <td>510</td>\n",
       "      <td>0</td>\n",
       "      <td>0</td>\n",
       "      <td>0</td>\n",
       "      <td>6</td>\n",
       "    </tr>\n",
       "    <tr>\n",
       "      <th>1</th>\n",
       "      <td>2020-01-23</td>\n",
       "      <td>654</td>\n",
       "      <td>18</td>\n",
       "      <td>30</td>\n",
       "      <td>606</td>\n",
       "      <td>99</td>\n",
       "      <td>1</td>\n",
       "      <td>2</td>\n",
       "      <td>8</td>\n",
       "    </tr>\n",
       "    <tr>\n",
       "      <th>2</th>\n",
       "      <td>2020-01-24</td>\n",
       "      <td>941</td>\n",
       "      <td>26</td>\n",
       "      <td>36</td>\n",
       "      <td>879</td>\n",
       "      <td>287</td>\n",
       "      <td>8</td>\n",
       "      <td>6</td>\n",
       "      <td>9</td>\n",
       "    </tr>\n",
       "    <tr>\n",
       "      <th>3</th>\n",
       "      <td>2020-01-25</td>\n",
       "      <td>1434</td>\n",
       "      <td>42</td>\n",
       "      <td>39</td>\n",
       "      <td>1353</td>\n",
       "      <td>493</td>\n",
       "      <td>16</td>\n",
       "      <td>3</td>\n",
       "      <td>11</td>\n",
       "    </tr>\n",
       "    <tr>\n",
       "      <th>4</th>\n",
       "      <td>2020-01-26</td>\n",
       "      <td>2118</td>\n",
       "      <td>56</td>\n",
       "      <td>52</td>\n",
       "      <td>2010</td>\n",
       "      <td>684</td>\n",
       "      <td>14</td>\n",
       "      <td>13</td>\n",
       "      <td>13</td>\n",
       "    </tr>\n",
       "    <tr>\n",
       "      <th>...</th>\n",
       "      <td>...</td>\n",
       "      <td>...</td>\n",
       "      <td>...</td>\n",
       "      <td>...</td>\n",
       "      <td>...</td>\n",
       "      <td>...</td>\n",
       "      <td>...</td>\n",
       "      <td>...</td>\n",
       "      <td>...</td>\n",
       "    </tr>\n",
       "    <tr>\n",
       "      <th>183</th>\n",
       "      <td>2020-07-23</td>\n",
       "      <td>15510481</td>\n",
       "      <td>633506</td>\n",
       "      <td>8710969</td>\n",
       "      <td>6166006</td>\n",
       "      <td>282756</td>\n",
       "      <td>9966</td>\n",
       "      <td>169714</td>\n",
       "      <td>187</td>\n",
       "    </tr>\n",
       "    <tr>\n",
       "      <th>184</th>\n",
       "      <td>2020-07-24</td>\n",
       "      <td>15791645</td>\n",
       "      <td>639650</td>\n",
       "      <td>8939705</td>\n",
       "      <td>6212290</td>\n",
       "      <td>281164</td>\n",
       "      <td>6144</td>\n",
       "      <td>228736</td>\n",
       "      <td>187</td>\n",
       "    </tr>\n",
       "    <tr>\n",
       "      <th>185</th>\n",
       "      <td>2020-07-25</td>\n",
       "      <td>16047190</td>\n",
       "      <td>644517</td>\n",
       "      <td>9158743</td>\n",
       "      <td>6243930</td>\n",
       "      <td>255545</td>\n",
       "      <td>4867</td>\n",
       "      <td>219038</td>\n",
       "      <td>187</td>\n",
       "    </tr>\n",
       "    <tr>\n",
       "      <th>186</th>\n",
       "      <td>2020-07-26</td>\n",
       "      <td>16251796</td>\n",
       "      <td>648621</td>\n",
       "      <td>9293464</td>\n",
       "      <td>6309711</td>\n",
       "      <td>204606</td>\n",
       "      <td>4104</td>\n",
       "      <td>134721</td>\n",
       "      <td>187</td>\n",
       "    </tr>\n",
       "    <tr>\n",
       "      <th>187</th>\n",
       "      <td>2020-07-27</td>\n",
       "      <td>16480485</td>\n",
       "      <td>654036</td>\n",
       "      <td>9468087</td>\n",
       "      <td>6358362</td>\n",
       "      <td>228693</td>\n",
       "      <td>5415</td>\n",
       "      <td>174623</td>\n",
       "      <td>187</td>\n",
       "    </tr>\n",
       "  </tbody>\n",
       "</table>\n",
       "<p>188 rows × 9 columns</p>\n",
       "</div>"
      ],
      "text/plain": [
       "           Date  Confirmed  Deaths  Recovered   Active  New cases  New deaths  \\\n",
       "0    2020-01-22        555      17         28      510          0           0   \n",
       "1    2020-01-23        654      18         30      606         99           1   \n",
       "2    2020-01-24        941      26         36      879        287           8   \n",
       "3    2020-01-25       1434      42         39     1353        493          16   \n",
       "4    2020-01-26       2118      56         52     2010        684          14   \n",
       "..          ...        ...     ...        ...      ...        ...         ...   \n",
       "183  2020-07-23   15510481  633506    8710969  6166006     282756        9966   \n",
       "184  2020-07-24   15791645  639650    8939705  6212290     281164        6144   \n",
       "185  2020-07-25   16047190  644517    9158743  6243930     255545        4867   \n",
       "186  2020-07-26   16251796  648621    9293464  6309711     204606        4104   \n",
       "187  2020-07-27   16480485  654036    9468087  6358362     228693        5415   \n",
       "\n",
       "     New recovered  No. of countries  \n",
       "0                0                 6  \n",
       "1                2                 8  \n",
       "2                6                 9  \n",
       "3                3                11  \n",
       "4               13                13  \n",
       "..             ...               ...  \n",
       "183         169714               187  \n",
       "184         228736               187  \n",
       "185         219038               187  \n",
       "186         134721               187  \n",
       "187         174623               187  \n",
       "\n",
       "[188 rows x 9 columns]"
      ]
     },
     "execution_count": 211,
     "metadata": {},
     "output_type": "execute_result"
    }
   ],
   "source": [
    "world_df"
   ]
  },
  {
   "cell_type": "markdown",
   "metadata": {},
   "source": [
    "Changing the Date-Time Format"
   ]
  },
  {
   "cell_type": "code",
   "execution_count": 212,
   "metadata": {
    "executionInfo": {
     "elapsed": 1222,
     "status": "ok",
     "timestamp": 1601674759597,
     "user": {
      "displayName": "Sai Kumar",
      "photoUrl": "https://lh3.googleusercontent.com/a-/AOh14GhM8IuO4ONgv7s96wmxXAm0JlKIwHUPdutyUTEP4w=s64",
      "userId": "15962737236170626420"
     },
     "user_tz": -330
    },
    "id": "07ShuOqFOLva"
   },
   "outputs": [],
   "source": [
    "df = world_df\n",
    "df['year'] = pd.DatetimeIndex(df.Date).year\n",
    "df['month'] = pd.DatetimeIndex(df.Date).month\n",
    "df['day'] = pd.DatetimeIndex(df.Date).day\n",
    "df['weekday'] = pd.DatetimeIndex(df.Date).weekday"
   ]
  },
  {
   "cell_type": "markdown",
   "metadata": {},
   "source": [
    "Using groupby function of pandas, created a new data frame for monthly wise analysis"
   ]
  },
  {
   "cell_type": "code",
   "execution_count": 219,
   "metadata": {},
   "outputs": [],
   "source": [
    "india_month_df = india_df.groupby('month')[['New Cases','New Deaths','New Recovered']].sum()"
   ]
  },
  {
   "cell_type": "code",
   "execution_count": 220,
   "metadata": {},
   "outputs": [],
   "source": [
    "india_month_df = india_month_df.drop(index = 10)"
   ]
  },
  {
   "cell_type": "code",
   "execution_count": 221,
   "metadata": {},
   "outputs": [
    {
     "data": {
      "text/html": [
       "<div>\n",
       "<style scoped>\n",
       "    .dataframe tbody tr th:only-of-type {\n",
       "        vertical-align: middle;\n",
       "    }\n",
       "\n",
       "    .dataframe tbody tr th {\n",
       "        vertical-align: top;\n",
       "    }\n",
       "\n",
       "    .dataframe thead th {\n",
       "        text-align: right;\n",
       "    }\n",
       "</style>\n",
       "<table border=\"1\" class=\"dataframe\">\n",
       "  <thead>\n",
       "    <tr style=\"text-align: right;\">\n",
       "      <th></th>\n",
       "      <th>New Cases</th>\n",
       "      <th>New Deaths</th>\n",
       "      <th>New Recovered</th>\n",
       "    </tr>\n",
       "    <tr>\n",
       "      <th>month</th>\n",
       "      <th></th>\n",
       "      <th></th>\n",
       "      <th></th>\n",
       "    </tr>\n",
       "  </thead>\n",
       "  <tbody>\n",
       "    <tr>\n",
       "      <th>3</th>\n",
       "      <td>1397</td>\n",
       "      <td>35</td>\n",
       "      <td>124</td>\n",
       "    </tr>\n",
       "    <tr>\n",
       "      <th>4</th>\n",
       "      <td>31653</td>\n",
       "      <td>1039</td>\n",
       "      <td>8201</td>\n",
       "    </tr>\n",
       "    <tr>\n",
       "      <th>5</th>\n",
       "      <td>149093</td>\n",
       "      <td>4090</td>\n",
       "      <td>78659</td>\n",
       "    </tr>\n",
       "    <tr>\n",
       "      <th>6</th>\n",
       "      <td>384697</td>\n",
       "      <td>11729</td>\n",
       "      <td>247838</td>\n",
       "    </tr>\n",
       "    <tr>\n",
       "      <th>7</th>\n",
       "      <td>1072030</td>\n",
       "      <td>18854</td>\n",
       "      <td>722983</td>\n",
       "    </tr>\n",
       "    <tr>\n",
       "      <th>8</th>\n",
       "      <td>1982375</td>\n",
       "      <td>28722</td>\n",
       "      <td>1716996</td>\n",
       "    </tr>\n",
       "    <tr>\n",
       "      <th>9</th>\n",
       "      <td>2604518</td>\n",
       "      <td>33028</td>\n",
       "      <td>2413024</td>\n",
       "    </tr>\n",
       "  </tbody>\n",
       "</table>\n",
       "</div>"
      ],
      "text/plain": [
       "       New Cases  New Deaths  New Recovered\n",
       "month                                      \n",
       "3           1397          35            124\n",
       "4          31653        1039           8201\n",
       "5         149093        4090          78659\n",
       "6         384697       11729         247838\n",
       "7        1072030       18854         722983\n",
       "8        1982375       28722        1716996\n",
       "9        2604518       33028        2413024"
      ]
     },
     "execution_count": 221,
     "metadata": {},
     "output_type": "execute_result"
    }
   ],
   "source": [
    "india_month_df"
   ]
  },
  {
   "cell_type": "code",
   "execution_count": 222,
   "metadata": {
    "executionInfo": {
     "elapsed": 1384,
     "status": "ok",
     "timestamp": 1601674867836,
     "user": {
      "displayName": "Sai Kumar",
      "photoUrl": "https://lh3.googleusercontent.com/a-/AOh14GhM8IuO4ONgv7s96wmxXAm0JlKIwHUPdutyUTEP4w=s64",
      "userId": "15962737236170626420"
     },
     "user_tz": -330
    },
    "id": "0kUuT5O5QWqb"
   },
   "outputs": [],
   "source": [
    "month_df = df.groupby('month')[['New cases', 'New deaths', 'New recovered']].sum()"
   ]
  },
  {
   "cell_type": "code",
   "execution_count": 223,
   "metadata": {
    "colab": {
     "base_uri": "https://localhost:8080/",
     "height": 294
    },
    "executionInfo": {
     "elapsed": 1265,
     "status": "ok",
     "timestamp": 1601675572151,
     "user": {
      "displayName": "Sai Kumar",
      "photoUrl": "https://lh3.googleusercontent.com/a-/AOh14GhM8IuO4ONgv7s96wmxXAm0JlKIwHUPdutyUTEP4w=s64",
      "userId": "15962737236170626420"
     },
     "user_tz": -330
    },
    "id": "W_oTScgVQwYY",
    "outputId": "a29e1437-38cc-425a-b433-0b5005bfc1fa"
   },
   "outputs": [
    {
     "data": {
      "text/html": [
       "<div>\n",
       "<style scoped>\n",
       "    .dataframe tbody tr th:only-of-type {\n",
       "        vertical-align: middle;\n",
       "    }\n",
       "\n",
       "    .dataframe tbody tr th {\n",
       "        vertical-align: top;\n",
       "    }\n",
       "\n",
       "    .dataframe thead th {\n",
       "        text-align: right;\n",
       "    }\n",
       "</style>\n",
       "<table border=\"1\" class=\"dataframe\">\n",
       "  <thead>\n",
       "    <tr style=\"text-align: right;\">\n",
       "      <th></th>\n",
       "      <th>New cases</th>\n",
       "      <th>New deaths</th>\n",
       "      <th>New recovered</th>\n",
       "    </tr>\n",
       "    <tr>\n",
       "      <th>month</th>\n",
       "      <th></th>\n",
       "      <th></th>\n",
       "      <th></th>\n",
       "    </tr>\n",
       "  </thead>\n",
       "  <tbody>\n",
       "    <tr>\n",
       "      <th>1</th>\n",
       "      <td>9372</td>\n",
       "      <td>196</td>\n",
       "      <td>191</td>\n",
       "    </tr>\n",
       "    <tr>\n",
       "      <th>2</th>\n",
       "      <td>75379</td>\n",
       "      <td>2723</td>\n",
       "      <td>38095</td>\n",
       "    </tr>\n",
       "    <tr>\n",
       "      <th>3</th>\n",
       "      <td>786064</td>\n",
       "      <td>41542</td>\n",
       "      <td>135760</td>\n",
       "    </tr>\n",
       "    <tr>\n",
       "      <th>4</th>\n",
       "      <td>2412383</td>\n",
       "      <td>190226</td>\n",
       "      <td>815542</td>\n",
       "    </tr>\n",
       "    <tr>\n",
       "      <th>5</th>\n",
       "      <td>2921042</td>\n",
       "      <td>138902</td>\n",
       "      <td>1595973</td>\n",
       "    </tr>\n",
       "    <tr>\n",
       "      <th>6</th>\n",
       "      <td>4265801</td>\n",
       "      <td>137604</td>\n",
       "      <td>2695870</td>\n",
       "    </tr>\n",
       "    <tr>\n",
       "      <th>7</th>\n",
       "      <td>6030911</td>\n",
       "      <td>142826</td>\n",
       "      <td>4186628</td>\n",
       "    </tr>\n",
       "  </tbody>\n",
       "</table>\n",
       "</div>"
      ],
      "text/plain": [
       "       New cases  New deaths  New recovered\n",
       "month                                      \n",
       "1           9372         196            191\n",
       "2          75379        2723          38095\n",
       "3         786064       41542         135760\n",
       "4        2412383      190226         815542\n",
       "5        2921042      138902        1595973\n",
       "6        4265801      137604        2695870\n",
       "7        6030911      142826        4186628"
      ]
     },
     "execution_count": 223,
     "metadata": {},
     "output_type": "execute_result"
    }
   ],
   "source": [
    "month_df"
   ]
  },
  {
   "cell_type": "code",
   "execution_count": 38,
   "metadata": {
    "executionInfo": {
     "elapsed": 1201,
     "status": "ok",
     "timestamp": 1601671700685,
     "user": {
      "displayName": "Sai Kumar",
      "photoUrl": "https://lh3.googleusercontent.com/a-/AOh14GhM8IuO4ONgv7s96wmxXAm0JlKIwHUPdutyUTEP4w=s64",
      "userId": "15962737236170626420"
     },
     "user_tz": -330
    },
    "id": "yx8tZMXoxgvA"
   },
   "outputs": [],
   "source": [
    "import jovian"
   ]
  },
  {
   "cell_type": "code",
   "execution_count": 303,
   "metadata": {
    "colab": {
     "base_uri": "https://localhost:8080/",
     "height": 52
    },
    "executionInfo": {
     "elapsed": 1325,
     "status": "ok",
     "timestamp": 1601671729874,
     "user": {
      "displayName": "Sai Kumar",
      "photoUrl": "https://lh3.googleusercontent.com/a-/AOh14GhM8IuO4ONgv7s96wmxXAm0JlKIwHUPdutyUTEP4w=s64",
      "userId": "15962737236170626420"
     },
     "user_tz": -330
    },
    "id": "ay7GwONOxgvC",
    "outputId": "94fa14ed-2361-4844-d614-96664fc561a0"
   },
   "outputs": [
    {
     "data": {
      "application/javascript": [
       "window.require && require([\"base/js/namespace\"],function(Jupyter){Jupyter.notebook.save_checkpoint()})"
      ],
      "text/plain": [
       "<IPython.core.display.Javascript object>"
      ]
     },
     "metadata": {},
     "output_type": "display_data"
    },
    {
     "name": "stdout",
     "output_type": "stream",
     "text": [
      "[jovian] Attempting to save notebook..\u001b[0m\n",
      "[jovian] Updating notebook \"saik65489/zerotopandas-course-project-b8661\" on https://jovian.ml/\u001b[0m\n",
      "[jovian] Uploading notebook..\u001b[0m\n",
      "[jovian] Capturing environment..\u001b[0m\n",
      "[jovian] Committed successfully! https://jovian.ml/saik65489/zerotopandas-course-project-b8661\u001b[0m\n"
     ]
    },
    {
     "data": {
      "text/plain": [
       "'https://jovian.ml/saik65489/zerotopandas-course-project-b8661'"
      ]
     },
     "execution_count": 303,
     "metadata": {},
     "output_type": "execute_result"
    }
   ],
   "source": [
    "jovian.commit()"
   ]
  },
  {
   "cell_type": "markdown",
   "metadata": {
    "id": "Zd62WZc5xgvE"
   },
   "source": [
    "## Exploratory Analysis and Visualization\n",
    "\n",
    "This module of the project deals with the visualizations of the data. I have used python's Matplotlib and Seaborn libraries for plotting eyecatching graphs. \n",
    "\n"
   ]
  },
  {
   "cell_type": "markdown",
   "metadata": {
    "id": "j6ZLPecaxgvG"
   },
   "source": [
    "Let's begin by importing`matplotlib.pyplot` and `seaborn`."
   ]
  },
  {
   "cell_type": "code",
   "execution_count": 160,
   "metadata": {
    "executionInfo": {
     "elapsed": 1207,
     "status": "ok",
     "timestamp": 1601672036425,
     "user": {
      "displayName": "Sai Kumar",
      "photoUrl": "https://lh3.googleusercontent.com/a-/AOh14GhM8IuO4ONgv7s96wmxXAm0JlKIwHUPdutyUTEP4w=s64",
      "userId": "15962737236170626420"
     },
     "user_tz": -330
    },
    "id": "N9_BNjXSxgvG"
   },
   "outputs": [],
   "source": [
    "import seaborn as sns\n",
    "import matplotlib\n",
    "import matplotlib.pyplot as plt\n",
    "import matplotlib.dates as mdates\n",
    "%matplotlib inline\n",
    "\n",
    "sns.set_style('darkgrid')\n",
    "matplotlib.rcParams['font.size'] = 14\n",
    "matplotlib.rcParams['figure.figsize'] = (9, 5)\n",
    "matplotlib.rcParams['figure.facecolor'] = '#00000000'"
   ]
  },
  {
   "cell_type": "code",
   "execution_count": 306,
   "metadata": {},
   "outputs": [
    {
     "data": {
      "text/html": [
       "<div>\n",
       "<style scoped>\n",
       "    .dataframe tbody tr th:only-of-type {\n",
       "        vertical-align: middle;\n",
       "    }\n",
       "\n",
       "    .dataframe tbody tr th {\n",
       "        vertical-align: top;\n",
       "    }\n",
       "\n",
       "    .dataframe thead th {\n",
       "        text-align: right;\n",
       "    }\n",
       "</style>\n",
       "<table border=\"1\" class=\"dataframe\">\n",
       "  <thead>\n",
       "    <tr style=\"text-align: right;\">\n",
       "      <th></th>\n",
       "      <th>Confirmed</th>\n",
       "      <th>Deaths</th>\n",
       "      <th>Recovered</th>\n",
       "      <th>Active</th>\n",
       "      <th>New cases</th>\n",
       "      <th>New deaths</th>\n",
       "      <th>New recovered</th>\n",
       "      <th>No. of countries</th>\n",
       "      <th>year</th>\n",
       "      <th>month</th>\n",
       "      <th>day</th>\n",
       "      <th>weekday</th>\n",
       "    </tr>\n",
       "  </thead>\n",
       "  <tbody>\n",
       "    <tr>\n",
       "      <th>count</th>\n",
       "      <td>1.880000e+02</td>\n",
       "      <td>188.000000</td>\n",
       "      <td>1.880000e+02</td>\n",
       "      <td>1.880000e+02</td>\n",
       "      <td>188.000000</td>\n",
       "      <td>188.000000</td>\n",
       "      <td>188.000000</td>\n",
       "      <td>188.000000</td>\n",
       "      <td>188.0</td>\n",
       "      <td>188.000000</td>\n",
       "      <td>188.000000</td>\n",
       "      <td>188.000000</td>\n",
       "    </tr>\n",
       "    <tr>\n",
       "      <th>mean</th>\n",
       "      <td>4.406960e+06</td>\n",
       "      <td>230770.760638</td>\n",
       "      <td>2.066001e+06</td>\n",
       "      <td>2.110188e+06</td>\n",
       "      <td>87771.021277</td>\n",
       "      <td>3478.824468</td>\n",
       "      <td>50362.015957</td>\n",
       "      <td>144.351064</td>\n",
       "      <td>2020.0</td>\n",
       "      <td>4.281915</td>\n",
       "      <td>15.957447</td>\n",
       "      <td>3.010638</td>\n",
       "    </tr>\n",
       "    <tr>\n",
       "      <th>std</th>\n",
       "      <td>4.757988e+06</td>\n",
       "      <td>217929.094183</td>\n",
       "      <td>2.627976e+06</td>\n",
       "      <td>1.969670e+06</td>\n",
       "      <td>75295.293255</td>\n",
       "      <td>2537.735652</td>\n",
       "      <td>56090.892479</td>\n",
       "      <td>65.175979</td>\n",
       "      <td>0.0</td>\n",
       "      <td>1.815057</td>\n",
       "      <td>8.793428</td>\n",
       "      <td>2.005312</td>\n",
       "    </tr>\n",
       "    <tr>\n",
       "      <th>min</th>\n",
       "      <td>5.550000e+02</td>\n",
       "      <td>17.000000</td>\n",
       "      <td>2.800000e+01</td>\n",
       "      <td>5.100000e+02</td>\n",
       "      <td>0.000000</td>\n",
       "      <td>0.000000</td>\n",
       "      <td>0.000000</td>\n",
       "      <td>6.000000</td>\n",
       "      <td>2020.0</td>\n",
       "      <td>1.000000</td>\n",
       "      <td>1.000000</td>\n",
       "      <td>0.000000</td>\n",
       "    </tr>\n",
       "    <tr>\n",
       "      <th>25%</th>\n",
       "      <td>1.121910e+05</td>\n",
       "      <td>3935.000000</td>\n",
       "      <td>6.044125e+04</td>\n",
       "      <td>5.864175e+04</td>\n",
       "      <td>5568.500000</td>\n",
       "      <td>250.750000</td>\n",
       "      <td>2488.250000</td>\n",
       "      <td>101.250000</td>\n",
       "      <td>2020.0</td>\n",
       "      <td>3.000000</td>\n",
       "      <td>8.000000</td>\n",
       "      <td>1.000000</td>\n",
       "    </tr>\n",
       "    <tr>\n",
       "      <th>50%</th>\n",
       "      <td>2.848733e+06</td>\n",
       "      <td>204190.000000</td>\n",
       "      <td>7.847840e+05</td>\n",
       "      <td>1.859759e+06</td>\n",
       "      <td>81114.000000</td>\n",
       "      <td>4116.000000</td>\n",
       "      <td>30991.500000</td>\n",
       "      <td>184.000000</td>\n",
       "      <td>2020.0</td>\n",
       "      <td>4.000000</td>\n",
       "      <td>16.000000</td>\n",
       "      <td>3.000000</td>\n",
       "    </tr>\n",
       "    <tr>\n",
       "      <th>75%</th>\n",
       "      <td>7.422046e+06</td>\n",
       "      <td>418634.500000</td>\n",
       "      <td>3.416396e+06</td>\n",
       "      <td>3.587015e+06</td>\n",
       "      <td>131502.500000</td>\n",
       "      <td>5346.000000</td>\n",
       "      <td>79706.250000</td>\n",
       "      <td>187.000000</td>\n",
       "      <td>2020.0</td>\n",
       "      <td>6.000000</td>\n",
       "      <td>24.000000</td>\n",
       "      <td>5.000000</td>\n",
       "    </tr>\n",
       "    <tr>\n",
       "      <th>max</th>\n",
       "      <td>1.648048e+07</td>\n",
       "      <td>654036.000000</td>\n",
       "      <td>9.468087e+06</td>\n",
       "      <td>6.358362e+06</td>\n",
       "      <td>282756.000000</td>\n",
       "      <td>9966.000000</td>\n",
       "      <td>284394.000000</td>\n",
       "      <td>187.000000</td>\n",
       "      <td>2020.0</td>\n",
       "      <td>7.000000</td>\n",
       "      <td>31.000000</td>\n",
       "      <td>6.000000</td>\n",
       "    </tr>\n",
       "  </tbody>\n",
       "</table>\n",
       "</div>"
      ],
      "text/plain": [
       "          Confirmed         Deaths     Recovered        Active      New cases  \\\n",
       "count  1.880000e+02     188.000000  1.880000e+02  1.880000e+02     188.000000   \n",
       "mean   4.406960e+06  230770.760638  2.066001e+06  2.110188e+06   87771.021277   \n",
       "std    4.757988e+06  217929.094183  2.627976e+06  1.969670e+06   75295.293255   \n",
       "min    5.550000e+02      17.000000  2.800000e+01  5.100000e+02       0.000000   \n",
       "25%    1.121910e+05    3935.000000  6.044125e+04  5.864175e+04    5568.500000   \n",
       "50%    2.848733e+06  204190.000000  7.847840e+05  1.859759e+06   81114.000000   \n",
       "75%    7.422046e+06  418634.500000  3.416396e+06  3.587015e+06  131502.500000   \n",
       "max    1.648048e+07  654036.000000  9.468087e+06  6.358362e+06  282756.000000   \n",
       "\n",
       "        New deaths  New recovered  No. of countries    year       month  \\\n",
       "count   188.000000     188.000000        188.000000   188.0  188.000000   \n",
       "mean   3478.824468   50362.015957        144.351064  2020.0    4.281915   \n",
       "std    2537.735652   56090.892479         65.175979     0.0    1.815057   \n",
       "min       0.000000       0.000000          6.000000  2020.0    1.000000   \n",
       "25%     250.750000    2488.250000        101.250000  2020.0    3.000000   \n",
       "50%    4116.000000   30991.500000        184.000000  2020.0    4.000000   \n",
       "75%    5346.000000   79706.250000        187.000000  2020.0    6.000000   \n",
       "max    9966.000000  284394.000000        187.000000  2020.0    7.000000   \n",
       "\n",
       "              day     weekday  \n",
       "count  188.000000  188.000000  \n",
       "mean    15.957447    3.010638  \n",
       "std      8.793428    2.005312  \n",
       "min      1.000000    0.000000  \n",
       "25%      8.000000    1.000000  \n",
       "50%     16.000000    3.000000  \n",
       "75%     24.000000    5.000000  \n",
       "max     31.000000    6.000000  "
      ]
     },
     "execution_count": 306,
     "metadata": {},
     "output_type": "execute_result"
    }
   ],
   "source": [
    "df.describe()"
   ]
  },
  {
   "cell_type": "code",
   "execution_count": 307,
   "metadata": {},
   "outputs": [
    {
     "data": {
      "text/html": [
       "<div>\n",
       "<style scoped>\n",
       "    .dataframe tbody tr th:only-of-type {\n",
       "        vertical-align: middle;\n",
       "    }\n",
       "\n",
       "    .dataframe tbody tr th {\n",
       "        vertical-align: top;\n",
       "    }\n",
       "\n",
       "    .dataframe thead th {\n",
       "        text-align: right;\n",
       "    }\n",
       "</style>\n",
       "<table border=\"1\" class=\"dataframe\">\n",
       "  <thead>\n",
       "    <tr style=\"text-align: right;\">\n",
       "      <th></th>\n",
       "      <th>Confirmed Cases</th>\n",
       "      <th>Active Cases</th>\n",
       "      <th>Cured/Discharged</th>\n",
       "      <th>Death</th>\n",
       "      <th>New Cases</th>\n",
       "      <th>New Deaths</th>\n",
       "      <th>New Recovered</th>\n",
       "    </tr>\n",
       "  </thead>\n",
       "  <tbody>\n",
       "    <tr>\n",
       "      <th>count</th>\n",
       "      <td>2.070000e+02</td>\n",
       "      <td>2.070000e+02</td>\n",
       "      <td>2.070000e+02</td>\n",
       "      <td>207.000000</td>\n",
       "      <td>207.000000</td>\n",
       "      <td>207.000000</td>\n",
       "      <td>207.000000</td>\n",
       "    </tr>\n",
       "    <tr>\n",
       "      <th>mean</th>\n",
       "      <td>1.455265e+06</td>\n",
       "      <td>3.383244e+05</td>\n",
       "      <td>1.089819e+06</td>\n",
       "      <td>27121.565217</td>\n",
       "      <td>31639.483092</td>\n",
       "      <td>491.700483</td>\n",
       "      <td>26618.193237</td>\n",
       "    </tr>\n",
       "    <tr>\n",
       "      <th>std</th>\n",
       "      <td>1.903721e+06</td>\n",
       "      <td>3.490050e+05</td>\n",
       "      <td>1.540186e+06</td>\n",
       "      <td>30786.678578</td>\n",
       "      <td>32867.546606</td>\n",
       "      <td>431.147168</td>\n",
       "      <td>30724.318275</td>\n",
       "    </tr>\n",
       "    <tr>\n",
       "      <th>min</th>\n",
       "      <td>7.400000e+01</td>\n",
       "      <td>7.100000e+01</td>\n",
       "      <td>3.000000e+00</td>\n",
       "      <td>0.000000</td>\n",
       "      <td>1.000000</td>\n",
       "      <td>0.000000</td>\n",
       "      <td>0.000000</td>\n",
       "    </tr>\n",
       "    <tr>\n",
       "      <th>25%</th>\n",
       "      <td>3.865800e+04</td>\n",
       "      <td>2.710650e+04</td>\n",
       "      <td>1.029200e+04</td>\n",
       "      <td>1259.500000</td>\n",
       "      <td>2423.000000</td>\n",
       "      <td>73.000000</td>\n",
       "      <td>923.500000</td>\n",
       "    </tr>\n",
       "    <tr>\n",
       "      <th>50%</th>\n",
       "      <td>4.402150e+05</td>\n",
       "      <td>1.780140e+05</td>\n",
       "      <td>2.481900e+05</td>\n",
       "      <td>14011.000000</td>\n",
       "      <td>15413.000000</td>\n",
       "      <td>386.000000</td>\n",
       "      <td>10994.000000</td>\n",
       "    </tr>\n",
       "    <tr>\n",
       "      <th>75%</th>\n",
       "      <td>2.428914e+06</td>\n",
       "      <td>6.576085e+05</td>\n",
       "      <td>1.723768e+06</td>\n",
       "      <td>47536.500000</td>\n",
       "      <td>61800.500000</td>\n",
       "      <td>908.000000</td>\n",
       "      <td>55793.000000</td>\n",
       "    </tr>\n",
       "    <tr>\n",
       "      <th>max</th>\n",
       "      <td>6.549373e+06</td>\n",
       "      <td>1.017754e+06</td>\n",
       "      <td>5.509966e+06</td>\n",
       "      <td>101782.000000</td>\n",
       "      <td>97894.000000</td>\n",
       "      <td>2003.000000</td>\n",
       "      <td>101468.000000</td>\n",
       "    </tr>\n",
       "  </tbody>\n",
       "</table>\n",
       "</div>"
      ],
      "text/plain": [
       "       Confirmed Cases  Active Cases  Cured/Discharged          Death  \\\n",
       "count     2.070000e+02  2.070000e+02      2.070000e+02     207.000000   \n",
       "mean      1.455265e+06  3.383244e+05      1.089819e+06   27121.565217   \n",
       "std       1.903721e+06  3.490050e+05      1.540186e+06   30786.678578   \n",
       "min       7.400000e+01  7.100000e+01      3.000000e+00       0.000000   \n",
       "25%       3.865800e+04  2.710650e+04      1.029200e+04    1259.500000   \n",
       "50%       4.402150e+05  1.780140e+05      2.481900e+05   14011.000000   \n",
       "75%       2.428914e+06  6.576085e+05      1.723768e+06   47536.500000   \n",
       "max       6.549373e+06  1.017754e+06      5.509966e+06  101782.000000   \n",
       "\n",
       "          New Cases   New Deaths  New Recovered  \n",
       "count    207.000000   207.000000     207.000000  \n",
       "mean   31639.483092   491.700483   26618.193237  \n",
       "std    32867.546606   431.147168   30724.318275  \n",
       "min        1.000000     0.000000       0.000000  \n",
       "25%     2423.000000    73.000000     923.500000  \n",
       "50%    15413.000000   386.000000   10994.000000  \n",
       "75%    61800.500000   908.000000   55793.000000  \n",
       "max    97894.000000  2003.000000  101468.000000  "
      ]
     },
     "execution_count": 307,
     "metadata": {},
     "output_type": "execute_result"
    }
   ],
   "source": [
    "india_df.describe()"
   ]
  },
  {
   "cell_type": "code",
   "execution_count": 228,
   "metadata": {},
   "outputs": [],
   "source": [
    "avg_month_df = df.groupby('month')[['New cases', 'New deaths', 'New recovered']].mean()\n",
    "avg_month_df_india = india_df.groupby('month')[['New Cases', 'New Deaths', 'New Recovered']].mean()"
   ]
  },
  {
   "cell_type": "markdown",
   "metadata": {
    "id": "ungHzjV0xgvI"
   },
   "source": [
    "## Plots for Number of New Cases recorded every Month "
   ]
  },
  {
   "cell_type": "code",
   "execution_count": 308,
   "metadata": {
    "colab": {
     "base_uri": "https://localhost:8080/",
     "height": 341
    },
    "executionInfo": {
     "elapsed": 1337,
     "status": "ok",
     "timestamp": 1601675659512,
     "user": {
      "displayName": "Sai Kumar",
      "photoUrl": "https://lh3.googleusercontent.com/a-/AOh14GhM8IuO4ONgv7s96wmxXAm0JlKIwHUPdutyUTEP4w=s64",
      "userId": "15962737236170626420"
     },
     "user_tz": -330
    },
    "id": "p3xxJQb_xgvI",
    "outputId": "e7607025-16db-4473-f921-b47058485fb0"
   },
   "outputs": [
    {
     "data": {
      "text/plain": [
       "Text(0, 0.5, 'Number of Cases')"
      ]
     },
     "execution_count": 308,
     "metadata": {},
     "output_type": "execute_result"
    },
    {
     "data": {
      "image/png": "[encoded data removed]",
      "text/plain": [
       "<Figure size 1152x288 with 2 Axes>"
      ]
     },
     "metadata": {
      "needs_background": "light"
     },
     "output_type": "display_data"
    }
   ],
   "source": [
    "fig, axes = plt.subplots(1, 2, figsize=(16,4))\n",
    "axes[0].set_title('World')\n",
    "axes[0].plot(month_df.index,month_df['New cases'],'o-r')\n",
    "axes[0].set_xlabel('Month')\n",
    "axes[0].set_ylabel('Number of Cases')\n",
    "axes[1].set_title('India')\n",
    "axes[1].plot(india_month_df.index,india_month_df['New Cases'],'o-g')\n",
    "axes[1].set_xlabel('Month')\n",
    "axes[1].set_ylabel('Number of Cases')"
   ]
  },
  {
   "cell_type": "markdown",
   "metadata": {},
   "source": [
    "## Bar Plots for Number of Daily New Deaths"
   ]
  },
  {
   "cell_type": "code",
   "execution_count": 233,
   "metadata": {
    "colab": {
     "base_uri": "https://localhost:8080/",
     "height": 376
    },
    "executionInfo": {
     "elapsed": 1225,
     "status": "ok",
     "timestamp": 1601675874849,
     "user": {
      "displayName": "Sai Kumar",
      "photoUrl": "https://lh3.googleusercontent.com/a-/AOh14GhM8IuO4ONgv7s96wmxXAm0JlKIwHUPdutyUTEP4w=s64",
      "userId": "15962737236170626420"
     },
     "user_tz": -330
    },
    "id": "gA9QBLzVxgvK",
    "outputId": "654ce431-ede1-47f5-d9c9-5eca81e70ea3"
   },
   "outputs": [
    {
     "name": "stderr",
     "output_type": "stream",
     "text": [
      "/srv/conda/envs/notebook/lib/python3.7/site-packages/seaborn/_decorators.py:43: FutureWarning: Pass the following variables as keyword args: x, y. From version 0.12, the only valid positional argument will be `data`, and passing other arguments without an explicit keyword will result in an error or misinterpretation.\n",
      "  FutureWarning\n"
     ]
    },
    {
     "data": {
      "image/png": "[encoded data removed]",
      "text/plain": [
       "<Figure size 792x288 with 1 Axes>"
      ]
     },
     "metadata": {
      "needs_background": "light"
     },
     "output_type": "display_data"
    }
   ],
   "source": [
    "plt.figure(figsize = (11,4))\n",
    "locator = mdates.MonthLocator()\n",
    "fmt = mdates.DateFormatter('%b')\n",
    "sns.barplot(df.Date,df['New deaths'])\n",
    "plt.xlabel('Month')\n",
    "plt.ylabel('New Deaths')\n",
    "plt.title('World - Daily New Deaths')\n",
    "X = plt.gca().xaxis\n",
    "X.set_major_locator(locator)\n",
    "X.set_major_formatter(fmt)\n",
    "plt.show()"
   ]
  },
  {
   "cell_type": "code",
   "execution_count": 247,
   "metadata": {},
   "outputs": [
    {
     "name": "stderr",
     "output_type": "stream",
     "text": [
      "/srv/conda/envs/notebook/lib/python3.7/site-packages/seaborn/_decorators.py:43: FutureWarning: Pass the following variables as keyword args: x, y. From version 0.12, the only valid positional argument will be `data`, and passing other arguments without an explicit keyword will result in an error or misinterpretation.\n",
      "  FutureWarning\n"
     ]
    },
    {
     "data": {
      "image/png": "[encoded data removed]",
      "text/plain": [
       "<Figure size 864x288 with 1 Axes>"
      ]
     },
     "metadata": {
      "needs_background": "light"
     },
     "output_type": "display_data"
    }
   ],
   "source": [
    "plt.figure(figsize = (12,4))\n",
    "locator1 = mdates.MonthLocator()\n",
    "fmt2 = mdates.DateFormatter('%b')\n",
    "sns.barplot(india_df.Date,india_df['New Deaths'])\n",
    "plt.xlabel('Month')\n",
    "plt.ylabel('New Deaths')\n",
    "plt.title('India - Daily New Deaths')\n",
    "X = plt.gca().xaxis\n",
    "X.set_major_locator(locator1)\n",
    "X.set_major_formatter(fmt2)\n",
    "plt.show()"
   ]
  },
  {
   "cell_type": "markdown",
   "metadata": {
    "id": "8sRcqjjDxgvM"
   },
   "source": [
    "## Plots for Cumulative Confirmed and Recovered Cases"
   ]
  },
  {
   "cell_type": "code",
   "execution_count": 183,
   "metadata": {
    "id": "dmKmcHcxxgvP"
   },
   "outputs": [
    {
     "data": {
      "image/png": "[encoded data removed]",
      "text/plain": [
       "<Figure size 432x288 with 1 Axes>"
      ]
     },
     "metadata": {
      "needs_background": "light"
     },
     "output_type": "display_data"
    },
    {
     "data": {
      "image/png": "[encoded data removed]",
      "text/plain": [
       "<Figure size 432x288 with 1 Axes>"
      ]
     },
     "metadata": {
      "needs_background": "light"
     },
     "output_type": "display_data"
    }
   ],
   "source": [
    "#world\n",
    "plt.figure(figsize = (6,4))\n",
    "locator = mdates.MonthLocator()\n",
    "fmt = mdates.DateFormatter('%b')\n",
    "plt.plot(df.Date,df['Confirmed'],'r')\n",
    "plt.plot(df.Date,df['Recovered'],'g')\n",
    "plt.ylabel('Number of people')\n",
    "plt.xlabel('Month')\n",
    "plt.legend(['Confirmed','Recovered'])\n",
    "plt.title('World')\n",
    "X = plt.gca().xaxis\n",
    "X.set_major_locator(locator)\n",
    "X.set_major_formatter(fmt)\n",
    "plt.show()\n",
    "#India\n",
    "plt.figure(figsize = (6,4))\n",
    "locator1 = mdates.MonthLocator()\n",
    "fmt1 = mdates.DateFormatter('%b')\n",
    "plt.plot(india_df.Date,india_df['Confirmed Cases'],'r')\n",
    "plt.plot(india_df.Date,india_df['Cured/Discharged'],'g')\n",
    "plt.ylabel('Number of people')\n",
    "plt.xlabel('Month')\n",
    "plt.legend(['Confirmed','Recovered'])\n",
    "plt.title('India')\n",
    "X = plt.gca().xaxis\n",
    "X.set_major_locator(locator)\n",
    "X.set_major_formatter(fmt)\n",
    "plt.show()"
   ]
  },
  {
   "cell_type": "markdown",
   "metadata": {},
   "source": [
    "## Time Series plot for Daily New Cases and Daily New Recovered"
   ]
  },
  {
   "cell_type": "code",
   "execution_count": 305,
   "metadata": {},
   "outputs": [
    {
     "data": {
      "image/png": "[encoded data removed]",
      "text/plain": [
       "<Figure size 576x288 with 1 Axes>"
      ]
     },
     "metadata": {
      "needs_background": "light"
     },
     "output_type": "display_data"
    },
    {
     "data": {
      "image/png": "[encoded data removed]",
      "text/plain": [
       "<Figure size 576x288 with 1 Axes>"
      ]
     },
     "metadata": {
      "needs_background": "light"
     },
     "output_type": "display_data"
    }
   ],
   "source": [
    "#world\n",
    "plt.figure(figsize = (8,4))\n",
    "locator = mdates.MonthLocator()\n",
    "fmt = mdates.DateFormatter('%b')\n",
    "plt.plot(df.Date,df['New cases'],'r')\n",
    "plt.plot(df.Date,df['New recovered'],'b')\n",
    "plt.ylabel('Number of People')\n",
    "plt.xlabel('Month')\n",
    "plt.title('World')\n",
    "X = plt.gca().xaxis\n",
    "X.set_major_locator(locator)\n",
    "X.set_major_formatter(fmt)\n",
    "plt.show()\n",
    "#india\n",
    "plt.figure(figsize = (8,4))\n",
    "locator1 = mdates.MonthLocator()\n",
    "fmt1 = mdates.DateFormatter('%b')\n",
    "plt.plot(india_df.Date,india_df['New Cases'],'r')\n",
    "plt.plot(india_df.Date,india_df['New Recovered'],'b')\n",
    "plt.ylabel('Number of People')\n",
    "plt.xlabel('Month')\n",
    "plt.title('India')\n",
    "X = plt.gca().xaxis\n",
    "X.set_major_locator(locator)\n",
    "X.set_major_formatter(fmt)\n",
    "plt.show()"
   ]
  },
  {
   "cell_type": "markdown",
   "metadata": {
    "id": "Xr5TD_00xgve"
   },
   "source": [
    "Let us save and upload our work to Jovian before continuing"
   ]
  },
  {
   "cell_type": "code",
   "execution_count": 58,
   "metadata": {
    "executionInfo": {
     "elapsed": 1405,
     "status": "ok",
     "timestamp": 1601676063592,
     "user": {
      "displayName": "Sai Kumar",
      "photoUrl": "https://lh3.googleusercontent.com/a-/AOh14GhM8IuO4ONgv7s96wmxXAm0JlKIwHUPdutyUTEP4w=s64",
      "userId": "15962737236170626420"
     },
     "user_tz": -330
    },
    "id": "cIhL5iMExgve"
   },
   "outputs": [],
   "source": [
    "import jovian"
   ]
  },
  {
   "cell_type": "code",
   "execution_count": 309,
   "metadata": {
    "colab": {
     "base_uri": "https://localhost:8080/",
     "height": 52
    },
    "executionInfo": {
     "elapsed": 1343,
     "status": "ok",
     "timestamp": 1601676092442,
     "user": {
      "displayName": "Sai Kumar",
      "photoUrl": "https://lh3.googleusercontent.com/a-/AOh14GhM8IuO4ONgv7s96wmxXAm0JlKIwHUPdutyUTEP4w=s64",
      "userId": "15962737236170626420"
     },
     "user_tz": -330
    },
    "id": "9oyyo5Wyxgvg",
    "outputId": "3040663b-d3ee-4f82-e77c-730997bab8e7"
   },
   "outputs": [
    {
     "data": {
      "application/javascript": [
       "window.require && require([\"base/js/namespace\"],function(Jupyter){Jupyter.notebook.save_checkpoint()})"
      ],
      "text/plain": [
       "<IPython.core.display.Javascript object>"
      ]
     },
     "metadata": {},
     "output_type": "display_data"
    },
    {
     "name": "stdout",
     "output_type": "stream",
     "text": [
      "[jovian] Attempting to save notebook..\u001b[0m\n",
      "[jovian] Creating a new project \"saik65489/\"\u001b[0m\n",
      "[jovian] Uploading notebook..\u001b[0m\n",
      "[jovian] Capturing environment..\u001b[0m\n",
      "[jovian] Committed successfully! https://jovian.ml/saik65489/zerotopandas-course-project-da3b5\u001b[0m\n"
     ]
    },
    {
     "data": {
      "text/plain": [
       "'https://jovian.ml/saik65489/zerotopandas-course-project-da3b5'"
      ]
     },
     "execution_count": 309,
     "metadata": {},
     "output_type": "execute_result"
    }
   ],
   "source": [
    "jovian.commit(project='')"
   ]
  },
  {
   "cell_type": "markdown",
   "metadata": {
    "id": "DWGmXDUNxgvi"
   },
   "source": [
    "## Asking and Answering Questions\n",
    "\n",
    "This module involves getting insights from the data using numerical computations.\n",
    "\n"
   ]
  },
  {
   "cell_type": "markdown",
   "metadata": {
    "id": "fI5LDhRaxgvi"
   },
   "source": [
    "#### Q1: By which month of year 2020, the COVID-19 virus has affected almost all countries in the world ?"
   ]
  },
  {
   "cell_type": "markdown",
   "metadata": {
    "id": "OJ2SgMiPxgvj"
   },
   "source": [
    "Ans: We have to plot the number of countries affected vs month for the world data set"
   ]
  },
  {
   "cell_type": "code",
   "execution_count": 248,
   "metadata": {
    "id": "tppMHDEaxgvl"
   },
   "outputs": [
    {
     "data": {
      "image/png": "[encoded data removed]",
      "text/plain": [
       "<Figure size 792x288 with 1 Axes>"
      ]
     },
     "metadata": {
      "needs_background": "light"
     },
     "output_type": "display_data"
    }
   ],
   "source": [
    "plt.figure(figsize = (11,4))\n",
    "locator2 = mdates.MonthLocator()\n",
    "fmt2 = mdates.DateFormatter('%b')\n",
    "plt.plot(df.Date,df['No. of countries'])\n",
    "plt.xlabel('Month')\n",
    "plt.ylabel('No. of countries')\n",
    "plt.title('No. of Countries Affected')\n",
    "X = plt.gca().xaxis\n",
    "X.set_major_locator(locator)\n",
    "X.set_major_formatter(fmt)\n",
    "plt.show()"
   ]
  },
  {
   "cell_type": "markdown",
   "metadata": {
    "id": "skHWCxD3xgvm"
   },
   "source": [
    "From the above plot, we can conclude that by the beginning of March month a total of **187** countries are affected by COVID-19 virus."
   ]
  },
  {
   "cell_type": "markdown",
   "metadata": {
    "id": "6PCbmdbnxgvo"
   },
   "source": [
    "#### Q2: On which days the highest number of new cases, new deaths, new recovered were recorded in world as of 27th July 2020?"
   ]
  },
  {
   "cell_type": "code",
   "execution_count": 254,
   "metadata": {
    "id": "lsnDHL_jxgvp"
   },
   "outputs": [
    {
     "data": {
      "text/html": [
       "<div>\n",
       "<style scoped>\n",
       "    .dataframe tbody tr th:only-of-type {\n",
       "        vertical-align: middle;\n",
       "    }\n",
       "\n",
       "    .dataframe tbody tr th {\n",
       "        vertical-align: top;\n",
       "    }\n",
       "\n",
       "    .dataframe thead th {\n",
       "        text-align: right;\n",
       "    }\n",
       "</style>\n",
       "<table border=\"1\" class=\"dataframe\">\n",
       "  <thead>\n",
       "    <tr style=\"text-align: right;\">\n",
       "      <th></th>\n",
       "      <th>Date</th>\n",
       "      <th>Confirmed</th>\n",
       "      <th>Deaths</th>\n",
       "      <th>Recovered</th>\n",
       "      <th>Active</th>\n",
       "      <th>New cases</th>\n",
       "      <th>New deaths</th>\n",
       "      <th>New recovered</th>\n",
       "      <th>No. of countries</th>\n",
       "      <th>year</th>\n",
       "      <th>month</th>\n",
       "      <th>day</th>\n",
       "      <th>weekday</th>\n",
       "    </tr>\n",
       "  </thead>\n",
       "  <tbody>\n",
       "    <tr>\n",
       "      <th>183</th>\n",
       "      <td>2020-07-23</td>\n",
       "      <td>15510481</td>\n",
       "      <td>633506</td>\n",
       "      <td>8710969</td>\n",
       "      <td>6166006</td>\n",
       "      <td>282756</td>\n",
       "      <td>9966</td>\n",
       "      <td>169714</td>\n",
       "      <td>187</td>\n",
       "      <td>2020</td>\n",
       "      <td>7</td>\n",
       "      <td>23</td>\n",
       "      <td>3</td>\n",
       "    </tr>\n",
       "  </tbody>\n",
       "</table>\n",
       "</div>"
      ],
      "text/plain": [
       "           Date  Confirmed  Deaths  Recovered   Active  New cases  New deaths  \\\n",
       "183  2020-07-23   15510481  633506    8710969  6166006     282756        9966   \n",
       "\n",
       "     New recovered  No. of countries  year  month  day  weekday  \n",
       "183         169714               187  2020      7   23        3  "
      ]
     },
     "execution_count": 254,
     "metadata": {},
     "output_type": "execute_result"
    }
   ],
   "source": [
    "df[df['New deaths']== df['New deaths'].max()]"
   ]
  },
  {
   "cell_type": "code",
   "execution_count": 255,
   "metadata": {
    "id": "KpHHY9CXxgvq"
   },
   "outputs": [
    {
     "data": {
      "text/html": [
       "<div>\n",
       "<style scoped>\n",
       "    .dataframe tbody tr th:only-of-type {\n",
       "        vertical-align: middle;\n",
       "    }\n",
       "\n",
       "    .dataframe tbody tr th {\n",
       "        vertical-align: top;\n",
       "    }\n",
       "\n",
       "    .dataframe thead th {\n",
       "        text-align: right;\n",
       "    }\n",
       "</style>\n",
       "<table border=\"1\" class=\"dataframe\">\n",
       "  <thead>\n",
       "    <tr style=\"text-align: right;\">\n",
       "      <th></th>\n",
       "      <th>Date</th>\n",
       "      <th>Confirmed</th>\n",
       "      <th>Deaths</th>\n",
       "      <th>Recovered</th>\n",
       "      <th>Active</th>\n",
       "      <th>New cases</th>\n",
       "      <th>New deaths</th>\n",
       "      <th>New recovered</th>\n",
       "      <th>No. of countries</th>\n",
       "      <th>year</th>\n",
       "      <th>month</th>\n",
       "      <th>day</th>\n",
       "      <th>weekday</th>\n",
       "    </tr>\n",
       "  </thead>\n",
       "  <tbody>\n",
       "    <tr>\n",
       "      <th>183</th>\n",
       "      <td>2020-07-23</td>\n",
       "      <td>15510481</td>\n",
       "      <td>633506</td>\n",
       "      <td>8710969</td>\n",
       "      <td>6166006</td>\n",
       "      <td>282756</td>\n",
       "      <td>9966</td>\n",
       "      <td>169714</td>\n",
       "      <td>187</td>\n",
       "      <td>2020</td>\n",
       "      <td>7</td>\n",
       "      <td>23</td>\n",
       "      <td>3</td>\n",
       "    </tr>\n",
       "  </tbody>\n",
       "</table>\n",
       "</div>"
      ],
      "text/plain": [
       "           Date  Confirmed  Deaths  Recovered   Active  New cases  New deaths  \\\n",
       "183  2020-07-23   15510481  633506    8710969  6166006     282756        9966   \n",
       "\n",
       "     New recovered  No. of countries  year  month  day  weekday  \n",
       "183         169714               187  2020      7   23        3  "
      ]
     },
     "execution_count": 255,
     "metadata": {},
     "output_type": "execute_result"
    }
   ],
   "source": [
    "df[df['New cases']== df['New cases'].max()]"
   ]
  },
  {
   "cell_type": "code",
   "execution_count": 256,
   "metadata": {
    "id": "Z2_fp8yLxgvt"
   },
   "outputs": [
    {
     "data": {
      "text/html": [
       "<div>\n",
       "<style scoped>\n",
       "    .dataframe tbody tr th:only-of-type {\n",
       "        vertical-align: middle;\n",
       "    }\n",
       "\n",
       "    .dataframe tbody tr th {\n",
       "        vertical-align: top;\n",
       "    }\n",
       "\n",
       "    .dataframe thead th {\n",
       "        text-align: right;\n",
       "    }\n",
       "</style>\n",
       "<table border=\"1\" class=\"dataframe\">\n",
       "  <thead>\n",
       "    <tr style=\"text-align: right;\">\n",
       "      <th></th>\n",
       "      <th>Date</th>\n",
       "      <th>Confirmed</th>\n",
       "      <th>Deaths</th>\n",
       "      <th>Recovered</th>\n",
       "      <th>Active</th>\n",
       "      <th>New cases</th>\n",
       "      <th>New deaths</th>\n",
       "      <th>New recovered</th>\n",
       "      <th>No. of countries</th>\n",
       "      <th>year</th>\n",
       "      <th>month</th>\n",
       "      <th>day</th>\n",
       "      <th>weekday</th>\n",
       "    </tr>\n",
       "  </thead>\n",
       "  <tbody>\n",
       "    <tr>\n",
       "      <th>162</th>\n",
       "      <td>2020-07-02</td>\n",
       "      <td>10875091</td>\n",
       "      <td>521341</td>\n",
       "      <td>5681477</td>\n",
       "      <td>4672273</td>\n",
       "      <td>207705</td>\n",
       "      <td>5120</td>\n",
       "      <td>284394</td>\n",
       "      <td>187</td>\n",
       "      <td>2020</td>\n",
       "      <td>7</td>\n",
       "      <td>2</td>\n",
       "      <td>3</td>\n",
       "    </tr>\n",
       "  </tbody>\n",
       "</table>\n",
       "</div>"
      ],
      "text/plain": [
       "           Date  Confirmed  Deaths  Recovered   Active  New cases  New deaths  \\\n",
       "162  2020-07-02   10875091  521341    5681477  4672273     207705        5120   \n",
       "\n",
       "     New recovered  No. of countries  year  month  day  weekday  \n",
       "162         284394               187  2020      7    2        3  "
      ]
     },
     "execution_count": 256,
     "metadata": {},
     "output_type": "execute_result"
    }
   ],
   "source": [
    "df[df['New recovered']== df['New recovered'].max()]"
   ]
  },
  {
   "cell_type": "markdown",
   "metadata": {},
   "source": [
    "Highest number of cases across world recorded on:  2020-07-23 \n",
    "\n",
    "Highest number of deaths across world recorded on: 2020-07-23\t\n",
    "\n",
    "Highest number of deaths across world recorded on: 2020-07-02"
   ]
  },
  {
   "cell_type": "markdown",
   "metadata": {
    "id": "k7p5Przrxgvv"
   },
   "source": [
    "#### Q3: On which days the highest number of new cases, new deaths, new recovered were recorded in India as of 30th September 2020 ?"
   ]
  },
  {
   "cell_type": "code",
   "execution_count": 257,
   "metadata": {
    "id": "6gaHA8djxgvw"
   },
   "outputs": [
    {
     "data": {
      "text/html": [
       "<div>\n",
       "<style scoped>\n",
       "    .dataframe tbody tr th:only-of-type {\n",
       "        vertical-align: middle;\n",
       "    }\n",
       "\n",
       "    .dataframe tbody tr th {\n",
       "        vertical-align: top;\n",
       "    }\n",
       "\n",
       "    .dataframe thead th {\n",
       "        text-align: right;\n",
       "    }\n",
       "</style>\n",
       "<table border=\"1\" class=\"dataframe\">\n",
       "  <thead>\n",
       "    <tr style=\"text-align: right;\">\n",
       "      <th></th>\n",
       "      <th>Date</th>\n",
       "      <th>Confirmed Cases</th>\n",
       "      <th>Active Cases</th>\n",
       "      <th>Cured/Discharged</th>\n",
       "      <th>Death</th>\n",
       "      <th>New Cases</th>\n",
       "      <th>New Deaths</th>\n",
       "      <th>New Recovered</th>\n",
       "      <th>year</th>\n",
       "      <th>month</th>\n",
       "      <th>day</th>\n",
       "      <th>weekday</th>\n",
       "    </tr>\n",
       "  </thead>\n",
       "  <tbody>\n",
       "    <tr>\n",
       "      <th>97</th>\n",
       "      <td>2020-06-17</td>\n",
       "      <td>354065</td>\n",
       "      <td>155227</td>\n",
       "      <td>186935.0</td>\n",
       "      <td>11903.0</td>\n",
       "      <td>10974</td>\n",
       "      <td>2003</td>\n",
       "      <td>6922</td>\n",
       "      <td>2020</td>\n",
       "      <td>6</td>\n",
       "      <td>17</td>\n",
       "      <td>2</td>\n",
       "    </tr>\n",
       "  </tbody>\n",
       "</table>\n",
       "</div>"
      ],
      "text/plain": [
       "         Date  Confirmed Cases  Active Cases  Cured/Discharged    Death  \\\n",
       "97 2020-06-17           354065        155227          186935.0  11903.0   \n",
       "\n",
       "    New Cases  New Deaths  New Recovered  year  month  day  weekday  \n",
       "97      10974        2003           6922  2020      6   17        2  "
      ]
     },
     "execution_count": 257,
     "metadata": {},
     "output_type": "execute_result"
    }
   ],
   "source": [
    "india_df[india_df['New Deaths']== india_df['New Deaths'].max()]"
   ]
  },
  {
   "cell_type": "code",
   "execution_count": 258,
   "metadata": {
    "id": "dO4w3AtOxgvz"
   },
   "outputs": [
    {
     "data": {
      "text/html": [
       "<div>\n",
       "<style scoped>\n",
       "    .dataframe tbody tr th:only-of-type {\n",
       "        vertical-align: middle;\n",
       "    }\n",
       "\n",
       "    .dataframe tbody tr th {\n",
       "        vertical-align: top;\n",
       "    }\n",
       "\n",
       "    .dataframe thead th {\n",
       "        text-align: right;\n",
       "    }\n",
       "</style>\n",
       "<table border=\"1\" class=\"dataframe\">\n",
       "  <thead>\n",
       "    <tr style=\"text-align: right;\">\n",
       "      <th></th>\n",
       "      <th>Date</th>\n",
       "      <th>Confirmed Cases</th>\n",
       "      <th>Active Cases</th>\n",
       "      <th>Cured/Discharged</th>\n",
       "      <th>Death</th>\n",
       "      <th>New Cases</th>\n",
       "      <th>New Deaths</th>\n",
       "      <th>New Recovered</th>\n",
       "      <th>year</th>\n",
       "      <th>month</th>\n",
       "      <th>day</th>\n",
       "      <th>weekday</th>\n",
       "    </tr>\n",
       "  </thead>\n",
       "  <tbody>\n",
       "    <tr>\n",
       "      <th>189</th>\n",
       "      <td>2020-09-17</td>\n",
       "      <td>5118253</td>\n",
       "      <td>1009976</td>\n",
       "      <td>4025079.0</td>\n",
       "      <td>83198.0</td>\n",
       "      <td>97894</td>\n",
       "      <td>1132</td>\n",
       "      <td>82719</td>\n",
       "      <td>2020</td>\n",
       "      <td>9</td>\n",
       "      <td>17</td>\n",
       "      <td>3</td>\n",
       "    </tr>\n",
       "  </tbody>\n",
       "</table>\n",
       "</div>"
      ],
      "text/plain": [
       "          Date  Confirmed Cases  Active Cases  Cured/Discharged    Death  \\\n",
       "189 2020-09-17          5118253       1009976         4025079.0  83198.0   \n",
       "\n",
       "     New Cases  New Deaths  New Recovered  year  month  day  weekday  \n",
       "189      97894        1132          82719  2020      9   17        3  "
      ]
     },
     "execution_count": 258,
     "metadata": {},
     "output_type": "execute_result"
    }
   ],
   "source": [
    "india_df[india_df['New Cases']== india_df['New Cases'].max()]"
   ]
  },
  {
   "cell_type": "code",
   "execution_count": 259,
   "metadata": {
    "id": "DgSaU90vxgv1"
   },
   "outputs": [
    {
     "data": {
      "text/html": [
       "<div>\n",
       "<style scoped>\n",
       "    .dataframe tbody tr th:only-of-type {\n",
       "        vertical-align: middle;\n",
       "    }\n",
       "\n",
       "    .dataframe tbody tr th {\n",
       "        vertical-align: top;\n",
       "    }\n",
       "\n",
       "    .dataframe thead th {\n",
       "        text-align: right;\n",
       "    }\n",
       "</style>\n",
       "<table border=\"1\" class=\"dataframe\">\n",
       "  <thead>\n",
       "    <tr style=\"text-align: right;\">\n",
       "      <th></th>\n",
       "      <th>Date</th>\n",
       "      <th>Confirmed Cases</th>\n",
       "      <th>Active Cases</th>\n",
       "      <th>Cured/Discharged</th>\n",
       "      <th>Death</th>\n",
       "      <th>New Cases</th>\n",
       "      <th>New Deaths</th>\n",
       "      <th>New Recovered</th>\n",
       "      <th>year</th>\n",
       "      <th>month</th>\n",
       "      <th>day</th>\n",
       "      <th>weekday</th>\n",
       "    </tr>\n",
       "  </thead>\n",
       "  <tbody>\n",
       "    <tr>\n",
       "      <th>194</th>\n",
       "      <td>2020-09-22</td>\n",
       "      <td>5562663</td>\n",
       "      <td>975861</td>\n",
       "      <td>4497867.0</td>\n",
       "      <td>88935.0</td>\n",
       "      <td>75083</td>\n",
       "      <td>1053</td>\n",
       "      <td>101468</td>\n",
       "      <td>2020</td>\n",
       "      <td>9</td>\n",
       "      <td>22</td>\n",
       "      <td>1</td>\n",
       "    </tr>\n",
       "  </tbody>\n",
       "</table>\n",
       "</div>"
      ],
      "text/plain": [
       "          Date  Confirmed Cases  Active Cases  Cured/Discharged    Death  \\\n",
       "194 2020-09-22          5562663        975861         4497867.0  88935.0   \n",
       "\n",
       "     New Cases  New Deaths  New Recovered  year  month  day  weekday  \n",
       "194      75083        1053         101468  2020      9   22        1  "
      ]
     },
     "execution_count": 259,
     "metadata": {},
     "output_type": "execute_result"
    }
   ],
   "source": [
    "india_df[india_df['New Recovered']== india_df['New Recovered'].max()]"
   ]
  },
  {
   "cell_type": "markdown",
   "metadata": {},
   "source": [
    "Highest number of cases recorded in India on:  2020-09-17\n",
    "\n",
    "Highest number of deaths recorded in India on: 2020-06-17\t\n",
    "\n",
    "Highest number of deaths recorded in India on: 2020-09-17\t"
   ]
  },
  {
   "cell_type": "markdown",
   "metadata": {
    "id": "qRQjh1UAxgv4"
   },
   "source": [
    "#### Q4: Which month has the highest average daily new cases in world ?"
   ]
  },
  {
   "cell_type": "code",
   "execution_count": 263,
   "metadata": {
    "id": "fZLnWiJexgv4"
   },
   "outputs": [
    {
     "data": {
      "text/html": [
       "<div>\n",
       "<style scoped>\n",
       "    .dataframe tbody tr th:only-of-type {\n",
       "        vertical-align: middle;\n",
       "    }\n",
       "\n",
       "    .dataframe tbody tr th {\n",
       "        vertical-align: top;\n",
       "    }\n",
       "\n",
       "    .dataframe thead th {\n",
       "        text-align: right;\n",
       "    }\n",
       "</style>\n",
       "<table border=\"1\" class=\"dataframe\">\n",
       "  <thead>\n",
       "    <tr style=\"text-align: right;\">\n",
       "      <th></th>\n",
       "      <th>New cases</th>\n",
       "      <th>New deaths</th>\n",
       "      <th>New recovered</th>\n",
       "    </tr>\n",
       "    <tr>\n",
       "      <th>month</th>\n",
       "      <th></th>\n",
       "      <th></th>\n",
       "      <th></th>\n",
       "    </tr>\n",
       "  </thead>\n",
       "  <tbody>\n",
       "    <tr>\n",
       "      <th>7</th>\n",
       "      <td>223367.074074</td>\n",
       "      <td>5289.851852</td>\n",
       "      <td>155060.296296</td>\n",
       "    </tr>\n",
       "  </tbody>\n",
       "</table>\n",
       "</div>"
      ],
      "text/plain": [
       "           New cases   New deaths  New recovered\n",
       "month                                           \n",
       "7      223367.074074  5289.851852  155060.296296"
      ]
     },
     "execution_count": 263,
     "metadata": {},
     "output_type": "execute_result"
    }
   ],
   "source": [
    "avg_month_df[avg_month_df['New cases']==avg_month_df['New cases'].max()]"
   ]
  },
  {
   "cell_type": "markdown",
   "metadata": {},
   "source": [
    "July has the highest average daily cases across the world."
   ]
  },
  {
   "cell_type": "markdown",
   "metadata": {
    "id": "36Q_dF6kxgv_"
   },
   "source": [
    "#### Q5: Which month has the highest average daily cases in India ?"
   ]
  },
  {
   "cell_type": "code",
   "execution_count": 266,
   "metadata": {
    "id": "jJEkXyWMxgwA"
   },
   "outputs": [
    {
     "data": {
      "text/html": [
       "<div>\n",
       "<style scoped>\n",
       "    .dataframe tbody tr th:only-of-type {\n",
       "        vertical-align: middle;\n",
       "    }\n",
       "\n",
       "    .dataframe tbody tr th {\n",
       "        vertical-align: top;\n",
       "    }\n",
       "\n",
       "    .dataframe thead th {\n",
       "        text-align: right;\n",
       "    }\n",
       "</style>\n",
       "<table border=\"1\" class=\"dataframe\">\n",
       "  <thead>\n",
       "    <tr style=\"text-align: right;\">\n",
       "      <th></th>\n",
       "      <th>New Cases</th>\n",
       "      <th>New Deaths</th>\n",
       "      <th>New Recovered</th>\n",
       "    </tr>\n",
       "    <tr>\n",
       "      <th>month</th>\n",
       "      <th></th>\n",
       "      <th></th>\n",
       "      <th></th>\n",
       "    </tr>\n",
       "  </thead>\n",
       "  <tbody>\n",
       "    <tr>\n",
       "      <th>9</th>\n",
       "      <td>86817.266667</td>\n",
       "      <td>1100.933333</td>\n",
       "      <td>80434.133333</td>\n",
       "    </tr>\n",
       "  </tbody>\n",
       "</table>\n",
       "</div>"
      ],
      "text/plain": [
       "          New Cases   New Deaths  New Recovered\n",
       "month                                          \n",
       "9      86817.266667  1100.933333   80434.133333"
      ]
     },
     "execution_count": 266,
     "metadata": {},
     "output_type": "execute_result"
    }
   ],
   "source": [
    "avg_month_df_india[avg_month_df_india['New Cases']==avg_month_df_india['New Cases'].max()]"
   ]
  },
  {
   "cell_type": "markdown",
   "metadata": {},
   "source": [
    "Sepetmber month has the average daily cases in India."
   ]
  },
  {
   "cell_type": "markdown",
   "metadata": {
    "id": "gh0CRF38xgwD"
   },
   "source": [
    "#### Q6: What is the value of Deaths per million population in world as of 27th July 2020 ?"
   ]
  },
  {
   "cell_type": "code",
   "execution_count": 275,
   "metadata": {},
   "outputs": [],
   "source": [
    "total_population_world = 7794798739"
   ]
  },
  {
   "cell_type": "code",
   "execution_count": 270,
   "metadata": {},
   "outputs": [],
   "source": [
    "total_deaths = df['New deaths'].sum()"
   ]
  },
  {
   "cell_type": "code",
   "execution_count": 276,
   "metadata": {},
   "outputs": [
    {
     "data": {
      "text/plain": [
       "83.90453966793561"
      ]
     },
     "execution_count": 276,
     "metadata": {},
     "output_type": "execute_result"
    }
   ],
   "source": [
    "world_deathratio = total_deaths*1000000/total_population_world\n",
    "world_deathratio"
   ]
  },
  {
   "cell_type": "markdown",
   "metadata": {},
   "source": [
    "World's deaths per million is close to **83**"
   ]
  },
  {
   "cell_type": "markdown",
   "metadata": {
    "id": "sAsXqiOexgwE"
   },
   "source": [
    "#### Q6: What is the value of Deaths per million population in India as of 30th September 2020 ?"
   ]
  },
  {
   "cell_type": "code",
   "execution_count": 277,
   "metadata": {},
   "outputs": [],
   "source": [
    "total_population_india = 1380004385"
   ]
  },
  {
   "cell_type": "code",
   "execution_count": 279,
   "metadata": {},
   "outputs": [],
   "source": [
    "total_deaths_india = india_df['New Deaths'].sum()"
   ]
  },
  {
   "cell_type": "code",
   "execution_count": 281,
   "metadata": {},
   "outputs": [
    {
     "data": {
      "text/plain": [
       "73.75483810509776"
      ]
     },
     "execution_count": 281,
     "metadata": {},
     "output_type": "execute_result"
    }
   ],
   "source": [
    "india_deathratio = total_deaths_india*1000000/total_population_india\n",
    "india_deathratio"
   ]
  },
  {
   "cell_type": "markdown",
   "metadata": {},
   "source": [
    "India's deaths per million is close to **73**\n",
    "\n",
    "It is less than world's deaths per million."
   ]
  },
  {
   "cell_type": "markdown",
   "metadata": {},
   "source": [
    "#### Q6: What is the fatality ratio of COVID-19 across the world ?"
   ]
  },
  {
   "cell_type": "code",
   "execution_count": 285,
   "metadata": {},
   "outputs": [],
   "source": [
    "outcome = df['New cases'].sum()"
   ]
  },
  {
   "cell_type": "code",
   "execution_count": 290,
   "metadata": {},
   "outputs": [],
   "source": [
    "world_fatality_percentage = (total_deaths/outcome)*100"
   ]
  },
  {
   "cell_type": "code",
   "execution_count": 291,
   "metadata": {},
   "outputs": [
    {
     "data": {
      "text/plain": [
       "3.9635228318947897"
      ]
     },
     "execution_count": 291,
     "metadata": {},
     "output_type": "execute_result"
    }
   ],
   "source": [
    "world_fatality_percentage"
   ]
  },
  {
   "cell_type": "markdown",
   "metadata": {},
   "source": [
    "World's Fatality Ratio calculated as on 27th July 2020 from the dataset is close to **4%**"
   ]
  },
  {
   "cell_type": "markdown",
   "metadata": {},
   "source": [
    "#### Q6: What is the fatality ratio of COVID-19 across India ?"
   ]
  },
  {
   "cell_type": "code",
   "execution_count": 292,
   "metadata": {},
   "outputs": [],
   "source": [
    "outcome_india = india_df['New Cases'].sum()"
   ]
  },
  {
   "cell_type": "code",
   "execution_count": 293,
   "metadata": {},
   "outputs": [],
   "source": [
    "india_fatality_percentage = (total_deaths_india/outcome_india)*100"
   ]
  },
  {
   "cell_type": "code",
   "execution_count": 294,
   "metadata": {},
   "outputs": [
    {
     "data": {
      "text/plain": [
       "1.5540724280018867"
      ]
     },
     "execution_count": 294,
     "metadata": {},
     "output_type": "execute_result"
    }
   ],
   "source": [
    "india_fatality_percentage"
   ]
  },
  {
   "cell_type": "markdown",
   "metadata": {},
   "source": [
    "India's Fatality Ratio calculated as on 30th September 2020 from the dataset is close to **1.5%**\n",
    "\n",
    "It is quite less than world's fatality ratio. There are many factors to be considered to know about the exact reason."
   ]
  },
  {
   "cell_type": "markdown",
   "metadata": {
    "id": "2rQlkXsvxgwG"
   },
   "source": [
    "Let us save and upload our work to Jovian before continuing."
   ]
  },
  {
   "cell_type": "code",
   "execution_count": 234,
   "metadata": {
    "id": "pA1iP7n-xgwI"
   },
   "outputs": [],
   "source": [
    "import jovian"
   ]
  },
  {
   "cell_type": "code",
   "execution_count": 310,
   "metadata": {
    "id": "FMMbnwwLxgwL",
    "outputId": "b1729868-1268-4eff-9441-d8fb42a174ae"
   },
   "outputs": [
    {
     "data": {
      "application/javascript": [
       "window.require && require([\"base/js/namespace\"],function(Jupyter){Jupyter.notebook.save_checkpoint()})"
      ],
      "text/plain": [
       "<IPython.core.display.Javascript object>"
      ]
     },
     "metadata": {},
     "output_type": "display_data"
    },
    {
     "name": "stdout",
     "output_type": "stream",
     "text": [
      "[jovian] Attempting to save notebook..\u001b[0m\n",
      "[jovian] Updating notebook \"saik65489/zerotopandas-course-project-da3b5\" on https://jovian.ml/\u001b[0m\n",
      "[jovian] Uploading notebook..\u001b[0m\n",
      "[jovian] Capturing environment..\u001b[0m\n",
      "[jovian] Committed successfully! https://jovian.ml/saik65489/zerotopandas-course-project-da3b5\u001b[0m\n"
     ]
    },
    {
     "data": {
      "text/plain": [
       "'https://jovian.ml/saik65489/zerotopandas-course-project-da3b5'"
      ]
     },
     "execution_count": 310,
     "metadata": {},
     "output_type": "execute_result"
    }
   ],
   "source": [
    "jovian.commit()"
   ]
  },
  {
   "cell_type": "markdown",
   "metadata": {
    "id": "vdJxMGCcxgwN"
   },
   "source": [
    "## Inferences and Conclusion\n",
    "\n",
    "From the plots and metrics we have used to analyse the data the following points are deduced:\n",
    "\n",
    "1. India's population fatality ratio is very less i.e. a person getting infected by the virus has **1.5%** chance of dying compared to whole world population **4%**.\n",
    "\n",
    "2. India saw unprecedented growth in the month of September where the average daily cases was very high.\n",
    "\n",
    "3. World's average daily cases was very high during the month july.\n",
    "\n",
    "4. Combining all the points of the analysis we can deduce the fact that the no. of cases are increasing exponentially. And the fatality of the disease is very low.\n",
    "\n",
    "\n"
   ]
  },
  {
   "cell_type": "code",
   "execution_count": null,
   "metadata": {
    "id": "V67J3GQuxgwN"
   },
   "outputs": [],
   "source": [
    "import jovian"
   ]
  },
  {
   "cell_type": "code",
   "execution_count": 311,
   "metadata": {
    "id": "yM8Sk4ZmxgwP",
    "outputId": "c298d76c-bac3-48f3-8bdf-2c87fa241847"
   },
   "outputs": [
    {
     "data": {
      "application/javascript": [
       "window.require && require([\"base/js/namespace\"],function(Jupyter){Jupyter.notebook.save_checkpoint()})"
      ],
      "text/plain": [
       "<IPython.core.display.Javascript object>"
      ]
     },
     "metadata": {},
     "output_type": "display_data"
    },
    {
     "name": "stdout",
     "output_type": "stream",
     "text": [
      "[jovian] Attempting to save notebook..\u001b[0m\n",
      "[jovian] Updating notebook \"saik65489/zerotopandas-course-project-da3b5\" on https://jovian.ml/\u001b[0m\n",
      "[jovian] Uploading notebook..\u001b[0m\n",
      "[jovian] Capturing environment..\u001b[0m\n",
      "[jovian] Committed successfully! https://jovian.ml/saik65489/zerotopandas-course-project-da3b5\u001b[0m\n"
     ]
    },
    {
     "data": {
      "text/plain": [
       "'https://jovian.ml/saik65489/zerotopandas-course-project-da3b5'"
      ]
     },
     "execution_count": 311,
     "metadata": {},
     "output_type": "execute_result"
    }
   ],
   "source": [
    "jovian.commit()"
   ]
  },
  {
   "cell_type": "markdown",
   "metadata": {
    "id": "jJf2a-YcxgwS"
   },
   "source": [
    "## References and Future Work\n",
    "References:\n",
    "Data Analysis with Python Course by Jovian.ml\n",
    "\n",
    "Datasets from kaggle,prsindia.org\n",
    "\n",
    "We can also consider the gender specific data of COVID-19. This gives us a clear idea of which gender is more prone to the virus. We can also add No. of Tests conducted for COVID-19 which gives us more information about the pandemic situation in the respective country."
   ]
  },
  {
   "cell_type": "code",
   "execution_count": null,
   "metadata": {
    "id": "t5Gs_Qa3xgwT"
   },
   "outputs": [],
   "source": [
    "import jovian"
   ]
  },
  {
   "cell_type": "code",
   "execution_count": 313,
   "metadata": {
    "id": "zKQpLFFuxgwU",
    "outputId": "606ce212-7781-4342-af9f-5da1d2d33869",
    "scrolled": true
   },
   "outputs": [
    {
     "data": {
      "application/javascript": [
       "window.require && require([\"base/js/namespace\"],function(Jupyter){Jupyter.notebook.save_checkpoint()})"
      ],
      "text/plain": [
       "<IPython.core.display.Javascript object>"
      ]
     },
     "metadata": {},
     "output_type": "display_data"
    },
    {
     "name": "stdout",
     "output_type": "stream",
     "text": [
      "[jovian] Attempting to save notebook..\u001b[0m\n",
      "[jovian] Updating notebook \"saik65489/zerotopandas-course-project-da3b5\" on https://jovian.ml/\u001b[0m\n",
      "[jovian] Uploading notebook..\u001b[0m\n",
      "[jovian] Capturing environment..\u001b[0m\n",
      "[jovian] Committed successfully! https://jovian.ml/saik65489/zerotopandas-course-project-da3b5\u001b[0m\n"
     ]
    },
    {
     "data": {
      "text/plain": [
       "'https://jovian.ml/saik65489/zerotopandas-course-project-da3b5'"
      ]
     },
     "execution_count": 313,
     "metadata": {},
     "output_type": "execute_result"
    }
   ],
   "source": [
    "jovian.commit()"
   ]
  },
  {
   "cell_type": "code",
   "execution_count": null,
   "metadata": {
    "id": "_i-uJlYgxgwW"
   },
   "outputs": [],
   "source": []
  }
 ],
 "metadata": {
  "colab": {
   "name": "zerotopandas-course-project.ipynb",
   "provenance": []
  },
  "language_info": {
   "codemirror_mode": {
    "name": "ipython",
    "version": 3
   },
   "file_extension": ".py",
   "mimetype": "text/x-python",
   "name": "python",
   "nbconvert_exporter": "python",
   "pygments_lexer": "ipython3",
   "version": "3.7.3"
  }
 },
 "nbformat": 4,
 "nbformat_minor": 1
}